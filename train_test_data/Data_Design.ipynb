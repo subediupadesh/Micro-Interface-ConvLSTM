{
 "cells": [
  {
   "cell_type": "code",
   "execution_count": null,
   "id": "b937717e-d3fa-47bd-b7ae-5e614b02943f",
   "metadata": {},
   "outputs": [],
   "source": [
    "import os\n",
    "import numpy as np"
   ]
  },
  {
   "cell_type": "markdown",
   "id": "55639956-d689-44a1-bf3c-9cfb820dcde8",
   "metadata": {
    "tags": []
   },
   "source": [
    "### Creating Dataset"
   ]
  },
  {
   "cell_type": "code",
   "execution_count": null,
   "id": "5a564cde-c01f-4960-b7d3-336d7df730fe",
   "metadata": {
    "tags": []
   },
   "outputs": [],
   "source": [
    "path = os.path.abspath('..')\n",
    "simulation_data_path = path+'/train_test_data/pfm_data.npy'\n",
    "simulation_data_path\n",
    "\n",
    "pfm_datum = np.load(simulation_data_path) \n",
    "pfm_datum.shape"
   ]
  },
  {
   "cell_type": "code",
   "execution_count": null,
   "id": "47c6b060-3c22-4ae9-8281-0bd0b43f6e9c",
   "metadata": {
    "tags": []
   },
   "outputs": [],
   "source": [
    "indexes = np.arange(pfm_datum.shape[0])\n",
    "np.random.shuffle(indexes)\n",
    "\n",
    "train_index = indexes[: int(0.9 * pfm_datum.shape[0])]\n",
    "val_index = indexes[int(0.9 * pfm_datum.shape[0]) :]\n",
    "\n",
    "train_dataset = pfm_datum[train_index]\n",
    "val_dataset = pfm_datum[val_index]\n",
    "\n",
    "train_dataset.shape, val_dataset.shape"
   ]
  },
  {
   "cell_type": "code",
   "execution_count": null,
   "id": "54b282f8-7771-4c0e-b76a-e61684822bbb",
   "metadata": {
    "tags": []
   },
   "outputs": [],
   "source": [
    "X_train, X_val = np.zeros((train_dataset.shape[0], 17, 3, 64, 64)), np.zeros((val_dataset.shape[0], 17, 3, 64, 64))\n",
    "\n",
    "for i in range(17):\n",
    "    X_train[:, i, :, :, :] = train_dataset[:, i:i+3, :, :]\n",
    "    X_val[:, i, :, :, :] = val_dataset[:, i:i+3, :, :]\n",
    "    \n",
    "# y_train = np.repeat(np.expand_dims(train_dataset[:, 3:20, :, :], axis=2), 3, axis=2)  ## Takes frames from 4 to 20 one at a time, then repates these frames at 3rd dimension 3 times to match the size of X_train\n",
    "# y_val = np.repeat(np.expand_dims(val_dataset[:, 3:20, :, :], axis=2), 3, axis=2) \n",
    "\n",
    "y_train = np.expand_dims(train_dataset[:, 3:20, :, :], axis=2)  ## Takes frames from 4 to 20 one at a time, then repates these frames at 3rd dimension 3 times to match the size of X_train\n",
    "y_val = np.expand_dims(val_dataset[:, 3:20, :, :], axis=2) \n",
    "\n",
    "X_train.shape, X_val.shape, y_train.shape, y_val.shape"
   ]
  },
  {
   "cell_type": "code",
   "execution_count": null,
   "id": "98fca421-cd61-4e01-95b4-1ca12d214517",
   "metadata": {
    "tags": []
   },
   "outputs": [],
   "source": [
    "X_train, X_val = np.moveaxis(X_train, 2, -1), np.moveaxis(X_val, 2, -1)\n",
    "y_train, y_val = np.moveaxis(y_train, 2, -1), np.moveaxis(y_val, 2, -1)\n",
    "\n",
    "print(f'Training Dataset Shapes: {str(X_train.shape)}, { str(y_train.shape)}')\n",
    "print(f'Validation Dataset Shapes: {str(X_val.shape)}, {str(y_val.shape)}')"
   ]
  },
  {
   "cell_type": "code",
   "execution_count": null,
   "id": "ef476bf4-879b-4d41-80f1-3e93ace33b21",
   "metadata": {
    "tags": []
   },
   "outputs": [],
   "source": [
    "np.save(path+'train_test_data/X_train.npy', X_train)\n",
    "np.save(path+'train_test_data/X_val.npy', X_val)\n",
    "np.save(path+'train_test_data/y_train.npy', y_train)\n",
    "np.save(path+'train_test_data/y_val.npy', y_val)"
   ]
  }
 ],
 "metadata": {
  "kernelspec": {
   "display_name": "Python 3 (ipykernel)",
   "language": "python",
   "name": "python3"
  },
  "language_info": {
   "codemirror_mode": {
    "name": "ipython",
    "version": 3
   },
   "file_extension": ".py",
   "mimetype": "text/x-python",
   "name": "python",
   "nbconvert_exporter": "python",
   "pygments_lexer": "ipython3",
   "version": "3.10.6"
  }
 },
 "nbformat": 4,
 "nbformat_minor": 5
}
