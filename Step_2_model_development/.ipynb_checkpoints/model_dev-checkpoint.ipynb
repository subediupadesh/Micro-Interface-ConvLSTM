{
 "cells": [
  {
   "cell_type": "markdown",
   "id": "ce603993-0277-4ad4-8433-07f47a5c26e7",
   "metadata": {},
   "source": [
    "## Importing Python Modules"
   ]
  },
  {
   "cell_type": "code",
   "execution_count": 10,
   "id": "6ebc214a-36fc-48f9-ba11-09ff1c14da8e",
   "metadata": {},
   "outputs": [],
   "source": [
    "import os\n",
    "\n",
    "##### Comment if not CUDA available ####\n",
    "os.environ['TF_ENABLE_ONEDNN_OPTS'] = '0'\n",
    "os.environ['TF_CPP_MIN_LOG_LEVEL'] = '3'\n",
    "os.environ[\"CUDA_VISIBLE_DEVICES\"] = \"0\" \n",
    "#######################################\n",
    "\n",
    "import numpy as np\n",
    "from tensorflow import keras\n",
    "import matplotlib.pyplot as plt\n",
    "from tensorflow.keras.models import Sequential\n",
    "from tensorflow.keras.layers import ConvLSTM2D, BatchNormalization, Conv3D, Input\n"
   ]
  },
  {
   "cell_type": "markdown",
   "id": "2d183ea5-f9f8-4837-a490-3eb20ae45537",
   "metadata": {},
   "source": [
    "### Setting path to main directory"
   ]
  },
  {
   "cell_type": "code",
   "execution_count": 2,
   "id": "52962ccc-0a2e-4b94-8625-0149cf164e27",
   "metadata": {},
   "outputs": [
    {
     "data": {
      "text/plain": [
       "'/home/upadesh/1 Research Project/PhD/0 My Research Papers/0 ConvLSTM/GitHub_Micro-STeP-ConvLSTM'"
      ]
     },
     "execution_count": 2,
     "metadata": {},
     "output_type": "execute_result"
    }
   ],
   "source": [
    "path = os.path.abspath('..')"
   ]
  },
  {
   "cell_type": "markdown",
   "id": "46936e30-31a9-41c8-9ab3-c948270521e4",
   "metadata": {},
   "source": [
    "## Loading Feature & Label of Train-Test data "
   ]
  },
  {
   "cell_type": "code",
   "execution_count": 6,
   "id": "a67df80f-4108-4678-b49d-0612f916933b",
   "metadata": {},
   "outputs": [
    {
     "data": {
      "text/plain": [
       "((3262, 17, 64, 64, 3),\n",
       " (363, 17, 64, 64, 3),\n",
       " (3262, 17, 64, 64, 1),\n",
       " (363, 17, 64, 64, 1))"
      ]
     },
     "execution_count": 6,
     "metadata": {},
     "output_type": "execute_result"
    }
   ],
   "source": [
    "X_train = np.load(path+'/Step_1_train_test_data/X_y_feature_label//X_train.npy')\n",
    "X_test = np.load(path+'/Step_1_train_test_data/X_y_feature_label/X_test.npy')\n",
    "y_train = np.load(path+'/Step_1_train_test_data/X_y_feature_label/y_train.npy')\n",
    "y_test = np.load(path+'/Step_1_train_test_data/X_y_feature_label/y_test.npy')\n",
    "\n",
    "X_train.shape, X_test.shape, y_train.shape, y_test.shape"
   ]
  },
  {
   "cell_type": "markdown",
   "id": "b4fd864e-3e1c-4568-bc7f-e44860f829c5",
   "metadata": {},
   "source": [
    "## Model's Architecture Development"
   ]
  },
  {
   "cell_type": "code",
   "execution_count": 11,
   "id": "495c0985-cb0a-4f2c-b6f9-4fcd347dbe19",
   "metadata": {},
   "outputs": [],
   "source": [
    "model = Sequential([\n",
    "  \n",
    "                    Input(shape=(None, *X_train.shape[2:])),\n",
    "                                      \n",
    "                    ConvLSTM2D(\n",
    "                              filters=64,\n",
    "                              kernel_size=(5, 5),\n",
    "                              padding=\"same\",\n",
    "                              return_sequences=True,\n",
    "                              activation=\"relu\",\n",
    "                              dropout=0.025,\n",
    "                              ),\n",
    "                    \n",
    "                    BatchNormalization(),\n",
    "                  \n",
    "                    ConvLSTM2D(\n",
    "                              filters=32,\n",
    "                              kernel_size=(3, 3),\n",
    "                              padding=\"same\",\n",
    "                              return_sequences=True,\n",
    "                              activation=\"tanh\",\n",
    "                              dropout=0.02,\n",
    "                              ),\n",
    "                  \n",
    "                    BatchNormalization(),\n",
    "                  \n",
    "                    ConvLSTM2D(\n",
    "                              filters=16,\n",
    "                              kernel_size=(1, 1),\n",
    "                              padding=\"same\",\n",
    "                              return_sequences=True,\n",
    "                              activation=\"relu\",\n",
    "                              dropout=0.005,\n",
    "                              ),\n",
    "                    \n",
    "                    Conv3D(\n",
    "                          filters=1, \n",
    "                          kernel_size=(3, 3, 3), \n",
    "                          activation=\"sigmoid\", \n",
    "                          padding=\"same\"\n",
    "                          ),\n",
    "                    \n",
    "                    ])\n"
   ]
  },
  {
   "cell_type": "code",
   "execution_count": 12,
   "id": "20afc28a-9c0f-4dd1-8ad3-1cb83490ee8d",
   "metadata": {},
   "outputs": [
    {
     "name": "stdout",
     "output_type": "stream",
     "text": [
      "Model: \"sequential\"\n",
      "_________________________________________________________________\n",
      " Layer (type)                Output Shape              Param #   \n",
      "=================================================================\n",
      " conv_lstm2d_3 (ConvLSTM2D)  (None, None, 64, 64, 64)  429056    \n",
      "                                                                 \n",
      " batch_normalization_2 (Batc  (None, None, 64, 64, 64)  256      \n",
      " hNormalization)                                                 \n",
      "                                                                 \n",
      " conv_lstm2d_4 (ConvLSTM2D)  (None, None, 64, 64, 32)  110720    \n",
      "                                                                 \n",
      " batch_normalization_3 (Batc  (None, None, 64, 64, 32)  128      \n",
      " hNormalization)                                                 \n",
      "                                                                 \n",
      " conv_lstm2d_5 (ConvLSTM2D)  (None, None, 64, 64, 16)  3136      \n",
      "                                                                 \n",
      " conv3d_1 (Conv3D)           (None, None, 64, 64, 1)   433       \n",
      "                                                                 \n",
      "=================================================================\n",
      "Total params: 543,729\n",
      "Trainable params: 543,537\n",
      "Non-trainable params: 192\n",
      "_________________________________________________________________\n"
     ]
    }
   ],
   "source": [
    "model.summary()"
   ]
  },
  {
   "cell_type": "code",
   "execution_count": 13,
   "id": "0d4b7540-7848-4205-b928-a78cf687583b",
   "metadata": {},
   "outputs": [],
   "source": [
    "model.compile(\n",
    "  loss=keras.losses.binary_crossentropy, \n",
    "  optimizer=keras.optimizers.Adam(learning_rate=0.001,),\n",
    ")"
   ]
  },
  {
   "cell_type": "code",
   "execution_count": 14,
   "id": "7644195c-d2b8-428e-ac4e-1d2e8a07b54f",
   "metadata": {},
   "outputs": [],
   "source": [
    "early_stopping = keras.callbacks.EarlyStopping(monitor=\"val_loss\", patience=5)\n",
    "reduce_lr = keras.callbacks.ReduceLROnPlateau(monitor=\"val_loss\", patience=10)"
   ]
  },
  {
   "cell_type": "code",
   "execution_count": 17,
   "id": "439250e1-72aa-4793-bbf8-89e220db4508",
   "metadata": {},
   "outputs": [],
   "source": [
    "checkpoint_filepath = path+\"/Step_2_model_development/model_1/checkpoints/\""
   ]
  },
  {
   "cell_type": "code",
   "execution_count": 18,
   "id": "3c04420c-eaf4-4beb-ab2f-255c9190349d",
   "metadata": {},
   "outputs": [],
   "source": [
    "model_checkpoint_callback = keras.callbacks.ModelCheckpoint(\n",
    "                                                            checkpoint_filepath,\n",
    "                                                            monitor= 'val_loss',\n",
    "                                                            verbose = 0,\n",
    "                                                            save_best_only = False,\n",
    "                                                            save_weights_only = False,\n",
    "                                                            mode= 'auto',\n",
    "                                                            save_freq='epoch',\n",
    "                                                            options=None,\n",
    "                                                            )"
   ]
  },
  {
   "cell_type": "code",
   "execution_count": null,
   "id": "8cc8e5e7-674b-4ca0-ad11-4593b9f6ed4d",
   "metadata": {},
   "outputs": [],
   "source": [
    "epochs = 25\n",
    "batch_size = 15\n",
    "\n",
    "history = model.fit(\n",
    "                    X_train,\n",
    "                    y_train,\n",
    "                    batch_size=batch_size,\n",
    "                    epochs=epochs,\n",
    "                    validation_data=(X_test, y_test),\n",
    "                    callbacks=[model_checkpoint_callback, early_stopping, reduce_lr],\n",
    "                    )\n",
    "\n",
    "model.save(path+'/Step_2_model_development/model_1/trained_model_1.h5')\n",
    "np.save(path+'/Step_2_model_development/model_1/model_1_history.npy', history.history)"
   ]
  },
  {
   "cell_type": "code",
   "execution_count": null,
   "id": "627f4c5a-752d-49bd-9c8a-ee6d7303b560",
   "metadata": {},
   "outputs": [],
   "source": []
  },
  {
   "cell_type": "code",
   "execution_count": null,
   "id": "e26b0662-7614-45ca-b139-c6bdde9a8d41",
   "metadata": {},
   "outputs": [],
   "source": []
  }
 ],
 "metadata": {
  "kernelspec": {
   "display_name": "Python 3 (ipykernel)",
   "language": "python",
   "name": "python3"
  },
  "language_info": {
   "codemirror_mode": {
    "name": "ipython",
    "version": 3
   },
   "file_extension": ".py",
   "mimetype": "text/x-python",
   "name": "python",
   "nbconvert_exporter": "python",
   "pygments_lexer": "ipython3",
   "version": "3.10.6"
  }
 },
 "nbformat": 4,
 "nbformat_minor": 5
}
