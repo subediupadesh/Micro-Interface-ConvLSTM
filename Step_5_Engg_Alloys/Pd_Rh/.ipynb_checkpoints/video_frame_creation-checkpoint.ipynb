{
 "cells": [
  {
   "cell_type": "code",
   "execution_count": null,
   "id": "41c9ccd5-4823-4f85-ba0e-86dcbf6e2e27",
   "metadata": {},
   "outputs": [],
   "source": []
  },
  {
   "cell_type": "markdown",
   "id": "d2c8c465-58a6-4438-a103-9e963fc5e775",
   "metadata": {},
   "source": [
    "### Pd_Rh"
   ]
  },
  {
   "cell_type": "markdown",
   "id": "122764b4-938d-4e0c-99bb-0fec66737134",
   "metadata": {},
   "source": [
    "#### Image Frame creation from csv files"
   ]
  },
  {
   "cell_type": "code",
   "execution_count": null,
   "id": "f4267adb-4660-47a8-8fa8-2a554606b368",
   "metadata": {},
   "outputs": [],
   "source": [
    "sim_no = 'Pd-Rh' # Simulation Id\n",
    "csv_files = natsorted(glob.glob(path_Pd_Rh+'*.csv'))  # Importing csv files of simulation naturally sorted\n",
    "\n",
    "c_values = [] # List of lists of compositions for all coordinate points for all time step\n",
    "for i, file in enumerate(csv_files): # Looping for all csv files (total csv files = number of time steps)\n",
    "    df = pd.read_csv(file, index_col=None) # Reading csv file\n",
    "    df = df.sort_values(by =['Points:1', 'Points:0'], ascending = [True, True]) # Sorting by coordinate x point in ascending order\n",
    "    dist = df['c'] # Making list of only compositional values\n",
    "    E = pd.DataFrame(dist) # Making dataframe of compositional list\n",
    "    E.columns = [os.path.basename(csv_files[i]).split('.')[0]] # Getting time step info from name of csv file  # First it separates whole file path to basename as \"00.csv\" || and then splits to \"00\" & \"csv\" and we need first part \"00\" only so [0]\n",
    "    c_values.append(E) # Appending composition to list\n",
    "    \n",
    "df_comp = pd.concat(c_values, ignore_index=False, axis=1) # Making dataframe of composition at every coordinate at every time step in ascending time order\n",
    "\n",
    "x_y_axis = df[['Points:0', 'Points:1']] # getting X and Y coordinate values\n",
    "data_Pd_Rh = pd.concat([x_y_axis, df_comp], ignore_index=False, axis=1).iloc[:, 2:] ## adding coordinate values to the dataframe of composition\n",
    "\n",
    "x_dim = int(x_y_axis.shape[0]**0.5) # The simulation was done in square surface so getting length of x-dimension\n",
    "y_dim = int(x_y_axis.shape[0]**0.5) # The simulation was done in square surface so getting length of y-dimension\n",
    "t_dim = int(df_comp.shape[1]) # Number of time steps as 3rd dimension of time \n",
    "\n",
    "print(f'SpatioTemporal(t, x, y) dimension of data is: {t_dim} x {y_dim} x {x_dim}')\n",
    "\n",
    "data_Pd_Rh = data_Pd_Rh.to_numpy().reshape(x_dim, y_dim, t_dim)   # Converting dataframe to Numpy and matching x-y-t dimensions\n",
    "data_Pd_Rh = np.transpose(data_Pd_Rh, (2, 0, 1))   # Transposing Numpy array in format of (t,x,y) from default of (y,x,t)\n",
    "\n",
    "np.save(path_pf_sim+'/Pd_Rh/Pd_Rh.npy', data_Pd_Rh) # Saving the numpy file \n",
    "\n",
    "### Plotting last frame ###\n",
    "frame_no = t_dim - 1 \n",
    "plt.imshow(np.squeeze(data_Pd_Rh[frame_no]), cmap=\"rainbow\")\n",
    "plt.title(f'Showing frame no: {frame_no+1} of Simulation {sim_no}')\n",
    "plt.gca().invert_yaxis()"
   ]
  },
  {
   "cell_type": "markdown",
   "id": "e477430b-c067-493e-bc9b-eb72b37048b8",
   "metadata": {},
   "source": [
    "#### Video Sequence Creation from image frames"
   ]
  },
  {
   "cell_type": "code",
   "execution_count": null,
   "id": "433f5941-95fa-4b81-ba69-fd405364e735",
   "metadata": {},
   "outputs": [],
   "source": [
    "### Lowering Resolution  \n",
    "def reduce_pixel_size(image, new_shape):\n",
    "    return resize(image, new_shape, anti_aliasing=True)\n",
    "\n",
    "new_shape = (data_Pd_Rh.shape[0], 64, 64)\n",
    "Pd_Rh_low_res = reduce_pixel_size(data_Pd_Rh, new_shape)\n",
    "print(f'Original Resolution: {data_Pd_Rh.shape}\\n Reduced Resolution: {Pd_Rh_low_res.shape}')\n",
    "\n",
    "## Plotting Original vs Recude resolution\n",
    "f, ax = plt.subplot_mosaic('01', figsize=(6, 3))\n",
    "ax['0'].imshow(data_Pd_Rh[-1], cmap=\"viridis\")\n",
    "ax['0'].invert_yaxis()\n",
    "ax['0'].set_title(\"Original\")\n",
    "\n",
    "ax['1'].imshow(Pd_Rh_low_res[-1], cmap=\"viridis\")\n",
    "ax['1'].invert_yaxis()\n",
    "ax['1'].set_title(\"Reduced\")\n",
    "plt.show()"
   ]
  },
  {
   "cell_type": "code",
   "execution_count": null,
   "id": "5966ef7b-4e78-4de9-9fe5-8b0c7e4de4df",
   "metadata": {},
   "outputs": [],
   "source": [
    "##### Video Sequences #####\n",
    "\n",
    "VS_Pd_Rh = []  # list to store the subarrays\n",
    "for n in range(1, 16):  # jumpting step from 1 to 15  (delta in Figure 1 of paper)\n",
    "    for i in range(0, Pd_Rh_low_res.shape[0] - 20  , n): # looping in the time step in one simulation (i in Figure 1 of paper)\n",
    "        video_sequence = Pd_Rh_low_res[i : i + 20, :, :] # taking 20 timestep frames in a video sequence\n",
    "        VS_Pd_Rh.append(video_sequence) # appending to Video Sequences (list of lists)\n",
    "        \n",
    "VS_Pd_Rh = np.array(VS_Pd_Rh)  # convert list to numpy array\n",
    "np.save(path_pf_sim+'/Pd_Rh/VS_Pd_Rh.npy', VS_Pd_Rh) # saving the Video Sequences \n",
    "\n",
    "print(f'Total Image Frame Shape: {Pd_Rh_low_res.shape}\\nVideo Sequence Shape: {VS_Pd_Rh.shape}')"
   ]
  },
  {
   "cell_type": "code",
   "execution_count": null,
   "id": "97f63f65-fdaf-497b-9877-0f91f2f3974e",
   "metadata": {},
   "outputs": [],
   "source": [
    "### 20 Frames of one of the Video Sequences ###\n",
    "\n",
    "fig, axes = plt.subplots(4, 5, figsize=(8, 6))\n",
    "data_choice = np.random.choice(range(len(VS_Pd_Rh)), size=1)[0] # randomly select one of the video sequences\n",
    "\n",
    "for idx, ax in enumerate(axes.flat):\n",
    "    ax.imshow(np.squeeze(VS_Pd_Rh[data_choice][idx]), cmap=\"viridis\") \n",
    "    ax.set_title(f\"Frame {idx + 1}\")\n",
    "    ax.axis(\"off\")\n",
    "\n",
    "# Print information and display the figure.\n",
    "print(f\"Displaying frames from Video Sequence No: {data_choice}.\")\n",
    "plt.show()"
   ]
  }
 ],
 "metadata": {
  "kernelspec": {
   "display_name": "Python 3 (ipykernel)",
   "language": "python",
   "name": "python3"
  },
  "language_info": {
   "codemirror_mode": {
    "name": "ipython",
    "version": 3
   },
   "file_extension": ".py",
   "mimetype": "text/x-python",
   "name": "python",
   "nbconvert_exporter": "python",
   "pygments_lexer": "ipython3",
   "version": "3.10.6"
  }
 },
 "nbformat": 4,
 "nbformat_minor": 5
}
