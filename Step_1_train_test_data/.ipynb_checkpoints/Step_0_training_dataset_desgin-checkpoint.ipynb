{
 "cells": [
  {
   "cell_type": "markdown",
   "id": "385b0531-c685-4aa5-8ca5-f914fd1932b2",
   "metadata": {},
   "source": [
    "## Importing Python Libraries"
   ]
  },
  {
   "cell_type": "code",
   "execution_count": null,
   "id": "829199e9-a796-4e26-b401-199f9307ef7e",
   "metadata": {},
   "outputs": [],
   "source": [
    "import os\n",
    "import glob\n",
    "import numpy as np\n",
    "import pandas as pd\n",
    "from natsort import natsorted\n",
    "import matplotlib.pyplot as plt\n",
    "from skimage.transform import resize"
   ]
  },
  {
   "cell_type": "markdown",
   "id": "366232b1-1854-4d76-a1ec-2f5a6bbea638",
   "metadata": {},
   "source": [
    "## Set the path to main directory"
   ]
  },
  {
   "cell_type": "code",
   "execution_count": null,
   "id": "5f03f418-99b9-4261-b65b-b6b129e49d8e",
   "metadata": {},
   "outputs": [],
   "source": [
    "path = os.path.abspath('..')  # Absolute Path to main folder"
   ]
  },
  {
   "cell_type": "markdown",
   "id": "94433752-524a-4b65-a627-6c4988012125",
   "metadata": {},
   "source": [
    "## Simulation CSV to Image Tensor to Video Sequences"
   ]
  },
  {
   "cell_type": "code",
   "execution_count": null,
   "id": "4e847d09-2492-4022-a044-7655cf3366f8",
   "metadata": {},
   "outputs": [],
   "source": [
    "path_pf_sim = path+'/Step_0_phase_field_simulations/exodus_files'  # Path to exodus folder of simulation\n",
    "\n",
    "path_sim_0 = path_pf_sim+'/sim_0/csv_files/'\n",
    "path_sim_1 = path_pf_sim+'/sim_1/csv_files/'\n",
    "path_sim_2 = path_pf_sim+'/sim_2/csv_files/'\n",
    "path_sim_3 = path_pf_sim+'/sim_3/csv_files/'\n",
    "path_sim_4 = path_pf_sim+'/sim_4/csv_files/'\n",
    "path_sim_5 = path_pf_sim+'/sim_5/csv_files/'\n",
    "\n",
    "path_Pd_Rh = path_pf_sim+'/Pd_Rh/csv_files/'\n",
    "path_Cu_Mn = path_pf_sim+'/Cu_Mn/csv_files/'"
   ]
  },
  {
   "cell_type": "markdown",
   "id": "a8f21f07-644b-4494-a083-2abc20a10029",
   "metadata": {},
   "source": [
    "### Simulation 0"
   ]
  },
  {
   "cell_type": "markdown",
   "id": "ddb1d9ae-165b-4b59-874b-529b78b34cab",
   "metadata": {},
   "source": [
    "#### Image Frame creation from csv files"
   ]
  },
  {
   "cell_type": "code",
   "execution_count": null,
   "id": "2a0045a8-b173-4f09-86ba-8304ea61b0ee",
   "metadata": {},
   "outputs": [],
   "source": [
    "sim_no = 0 # Simulation No\n",
    "csv_files = natsorted(glob.glob(path_sim_0+'*.csv'))  # Importing csv files of simulation naturally sorted\n",
    "\n",
    "c_values = [] # List of lists of compositions for all coordinate points for all time step\n",
    "for i, file in enumerate(csv_files): # Looping for all csv files (total csv files = number of time steps)\n",
    "    df = pd.read_csv(file, index_col=None) # Reading csv file\n",
    "    df = df.sort_values(by =['Points:1', 'Points:0'], ascending = [True, True]) # Sorting by coordinate x point in ascending order\n",
    "    dist = df['c'] # Making list of only compositional values\n",
    "    E = pd.DataFrame(dist) # Making dataframe of compositional list\n",
    "    E.columns = [os.path.basename(csv_files[i]).split('.')[0]] # Getting time step info from name of csv file  # First it separates whole file path to basename as \"00.csv\" || and then splits to \"00\" & \"csv\" and we need first part \"00\" only so [0]\n",
    "    c_values.append(E) # Appending composition to list\n",
    "    \n",
    "df_comp = pd.concat(c_values, ignore_index=False, axis=1) # Making dataframe of composition at every coordinate at every time step in ascending time order\n",
    "\n",
    "x_y_axis = df[['Points:0', 'Points:1']] # getting X and Y coordinate values\n",
    "data_sim_0 = pd.concat([x_y_axis, df_comp], ignore_index=False, axis=1).iloc[:, 2:] ## adding coordinate values to the dataframe of composition\n",
    "\n",
    "x_dim = int(x_y_axis.shape[0]**0.5) # The simulation was done in square surface so getting length of x-dimension\n",
    "y_dim = int(x_y_axis.shape[0]**0.5) # The simulation was done in square surface so getting length of y-dimension\n",
    "t_dim = int(df_comp.shape[1]) # Number of time steps as 3rd dimension of time \n",
    "\n",
    "print(f'SpatioTemporal(t, x, y) dimension of data is: {t_dim} x {y_dim} x {x_dim}')\n",
    "\n",
    "data_sim_0 = data_sim_0.to_numpy().reshape(x_dim, y_dim, t_dim)   # Converting dataframe to Numpy and matching x-y-t dimensions\n",
    "data_sim_0 = np.transpose(data_sim_0, (2, 0, 1))   # Transposing Numpy array in format of (t,x,y) from default of (y,x,t)\n",
    "\n",
    "np.save(path_pf_sim+'/sim_0/sim_0.npy', data_sim_0) # Saving the numpy file\n",
    "\n",
    "### Plotting last frame ###\n",
    "frame_no = t_dim - 1 \n",
    "plt.imshow(np.squeeze(data_sim_0[frame_no]), cmap=\"rainbow\")\n",
    "plt.title(f'Showing frame no: {frame_no+1} of Simulation {sim_no}')\n",
    "plt.gca().invert_yaxis()"
   ]
  },
  {
   "cell_type": "markdown",
   "id": "ce9be63c-f422-42b5-9225-38d971a666d7",
   "metadata": {},
   "source": [
    "#### Video Sequence Creation from image frames"
   ]
  },
  {
   "cell_type": "code",
   "execution_count": null,
   "id": "5a28901b-693c-4798-b3aa-48f345f80021",
   "metadata": {},
   "outputs": [],
   "source": [
    "### Lowering Resolution  \n",
    "def reduce_pixel_size(image, new_shape):\n",
    "    return resize(image, new_shape, anti_aliasing=True)\n",
    "\n",
    "new_shape = (data_sim_0.shape[0], 64, 64)\n",
    "sim_0_low_res = reduce_pixel_size(data_sim_0, new_shape)\n",
    "print(f'Original Resolution: {data_sim_0.shape}\\n Reduced Resolution: {sim_0_low_res.shape}')\n",
    "\n",
    "## Plotting Original vs Recude resolution\n",
    "f, ax = plt.subplot_mosaic('01', figsize=(6, 3))\n",
    "ax['0'].imshow(data_sim_0[-1], cmap=\"viridis\")\n",
    "ax['0'].invert_yaxis()\n",
    "ax['0'].set_title(\"Original\")\n",
    "\n",
    "ax['1'].imshow(sim_0_low_res[-1], cmap=\"viridis\")\n",
    "ax['1'].invert_yaxis()\n",
    "ax['1'].set_title(\"Reduced\")\n",
    "plt.show()"
   ]
  },
  {
   "cell_type": "code",
   "execution_count": null,
   "id": "dceed90c-9f0e-4ac8-878e-6cfcd91113b1",
   "metadata": {},
   "outputs": [],
   "source": [
    "##### Video Sequences #####\n",
    "\n",
    "VS_sim_0 = []  # list to store the subarrays\n",
    "for n in range(1, 16):  # jumpting step from 1 to 15  (delta in Figure 1 of paper)\n",
    "    for i in range(0, sim_0_low_res.shape[0] - 20  , n): # looping in the time step in one simulation (i in Figure 1 of paper)\n",
    "        video_sequence = sim_0_low_res[i : i + 20, :, :] # taking 20 timestep frames in a video sequence\n",
    "        VS_sim_0.append(video_sequence) # appending to Video Sequences (list of lists)\n",
    "        \n",
    "VS_sim_0 = np.array(VS_sim_0)  # convert list to numpy array\n",
    "np.save(path_pf_sim+'/sim_0/VS_0.npy', VS_sim_0) # saving the Video Sequences \n",
    "\n",
    "print(f'Total Image Frame Shape: {sim_0_low_res.shape}\\nVideo Sequence Shape: {VS_sim_0.shape}')"
   ]
  },
  {
   "cell_type": "code",
   "execution_count": null,
   "id": "eca9def7-d928-44bd-97f1-71f2bb1c7ef9",
   "metadata": {},
   "outputs": [],
   "source": [
    "### 20 Frames of one of the Video Sequences ###\n",
    "\n",
    "fig, axes = plt.subplots(4, 5, figsize=(8, 6))\n",
    "data_choice = np.random.choice(range(len(VS_sim_0)), size=1)[0] # randomly select one of the video sequences\n",
    "\n",
    "for idx, ax in enumerate(axes.flat):\n",
    "    ax.imshow(np.squeeze(VS_sim_0[data_choice][idx]), cmap=\"viridis\") \n",
    "    ax.set_title(f\"Frame {idx + 1}\")\n",
    "    ax.axis(\"off\")\n",
    "\n",
    "# Print information and display the figure.\n",
    "print(f\"Displaying frames from Video Sequence No: {data_choice}.\")\n",
    "plt.show()"
   ]
  },
  {
   "cell_type": "markdown",
   "id": "ca448b08-daf0-4e0c-95a4-d351486bc896",
   "metadata": {},
   "source": [
    "### Simulation 1"
   ]
  },
  {
   "cell_type": "markdown",
   "id": "5958b8f6-6c79-47dc-9aba-cfa9044ffd43",
   "metadata": {},
   "source": [
    "#### Image Frame creation from csv files"
   ]
  },
  {
   "cell_type": "code",
   "execution_count": null,
   "id": "69c7d1e0-b1a9-4620-9518-ff6a13844014",
   "metadata": {},
   "outputs": [],
   "source": [
    "sim_no = 1 # Simulation No\n",
    "csv_files = natsorted(glob.glob(path_sim_1+'*.csv'))  # Importing csv files of simulation naturally sorted\n",
    "\n",
    "c_values = [] # List of lists of compositions for all coordinate points for all time step\n",
    "for i, file in enumerate(csv_files): # Looping for all csv files (total csv files = number of time steps)\n",
    "    df = pd.read_csv(file, index_col=None) # Reading csv file\n",
    "    df = df.sort_values(by =['Points:1', 'Points:0'], ascending = [True, True]) # Sorting by coordinate x point in ascending order\n",
    "    dist = df['c'] # Making list of only compositional values\n",
    "    E = pd.DataFrame(dist) # Making dataframe of compositional list\n",
    "    E.columns = [os.path.basename(csv_files[i]).split('.')[0]] # Getting time step info from name of csv file  # First it separates whole file path to basename as \"00.csv\" || and then splits to \"00\" & \"csv\" and we need first part \"00\" only so [0]\n",
    "    c_values.append(E) # Appending composition to list\n",
    "    \n",
    "df_comp = pd.concat(c_values, ignore_index=False, axis=1) # Making dataframe of composition at every coordinate at every time step in ascending time order\n",
    "\n",
    "x_y_axis = df[['Points:0', 'Points:1']] # getting X and Y coordinate values\n",
    "data_sim_1 = pd.concat([x_y_axis, df_comp], ignore_index=False, axis=1).iloc[:, 2:] ## adding coordinate values to the dataframe of composition\n",
    "\n",
    "x_dim = int(x_y_axis.shape[0]**0.5) # The simulation was done in square surface so getting length of x-dimension\n",
    "y_dim = int(x_y_axis.shape[0]**0.5) # The simulation was done in square surface so getting length of y-dimension\n",
    "t_dim = int(df_comp.shape[1]) # Number of time steps as 3rd dimension of time \n",
    "\n",
    "print(f'SpatioTemporal(t, x, y) dimension of data is: {t_dim} x {y_dim} x {x_dim}')\n",
    "\n",
    "data_sim_1 = data_sim_1.to_numpy().reshape(x_dim, y_dim, t_dim)   # Converting dataframe to Numpy and matching x-y-t dimensions\n",
    "data_sim_1 = np.transpose(data_sim_1, (2, 0, 1))   # Transposing Numpy array in format of (t,x,y) from default of (y,x,t)\n",
    "\n",
    "np.save(path_pf_sim+'/sim_1/sim_1.npy', data_sim_1) # Saving the numpy file\n",
    "\n",
    "### Plotting last frame ###\n",
    "frame_no = t_dim - 1 \n",
    "plt.imshow(np.squeeze(data_sim_1[frame_no]), cmap=\"rainbow\")\n",
    "plt.title(f'Showing frame no: {frame_no+1} of Simulation {sim_no}')\n",
    "plt.gca().invert_yaxis()"
   ]
  },
  {
   "cell_type": "markdown",
   "id": "b79a66d4-93b7-4e91-8729-f80770e8ee94",
   "metadata": {},
   "source": [
    "#### Video Sequence Creation from image frames"
   ]
  },
  {
   "cell_type": "code",
   "execution_count": null,
   "id": "b42cff23-430e-4d89-9d99-a0688837db13",
   "metadata": {},
   "outputs": [],
   "source": [
    "### Lowering Resolution  \n",
    "def reduce_pixel_size(image, new_shape):\n",
    "    return resize(image, new_shape, anti_aliasing=True)\n",
    "\n",
    "new_shape = (data_sim_1.shape[0], 64, 64)\n",
    "sim_1_low_res = reduce_pixel_size(data_sim_1, new_shape)\n",
    "print(f'Original Resolution: {data_sim_1.shape}\\n Reduced Resolution: {sim_1_low_res.shape}')\n",
    "\n",
    "## Plotting Original vs Recude resolution\n",
    "f, ax = plt.subplot_mosaic('01', figsize=(6, 3))\n",
    "ax['0'].imshow(data_sim_1[-1], cmap=\"viridis\")\n",
    "ax['0'].invert_yaxis()\n",
    "ax['0'].set_title(\"Original\")\n",
    "\n",
    "ax['1'].imshow(sim_1_low_res[-1], cmap=\"viridis\")\n",
    "ax['1'].invert_yaxis()\n",
    "ax['1'].set_title(\"Reduced\")\n",
    "plt.show()"
   ]
  },
  {
   "cell_type": "code",
   "execution_count": null,
   "id": "d90b51ea-c168-4d28-90b1-92dbba97de85",
   "metadata": {},
   "outputs": [],
   "source": [
    "##### Video Sequences #####\n",
    "\n",
    "VS_sim_1 = []  # list to store the subarrays\n",
    "for n in range(1, 16):  # jumpting step from 1 to 15  (delta in Figure 1 of paper)\n",
    "    for i in range(0, sim_1_low_res.shape[0] - 20  , n): # looping in the time step in one simulation (i in Figure 1 of paper)\n",
    "        video_sequence = sim_1_low_res[i : i + 20, :, :] # taking 20 timestep frames in a video sequence\n",
    "        VS_sim_1.append(video_sequence) # appending to Video Sequences (list of lists)\n",
    "        \n",
    "VS_sim_1 = np.array(VS_sim_1)  # convert list to numpy array\n",
    "np.save(path_pf_sim+'/sim_1/VS_1.npy', VS_sim_1) # saving the Video Sequences \n",
    "\n",
    "print(f'Total Image Frame Shape: {sim_1_low_res.shape}\\nVideo Sequence Shape: {VS_sim_1.shape}')"
   ]
  },
  {
   "cell_type": "code",
   "execution_count": null,
   "id": "8da40e10-40c5-49b1-9933-1e36ff3b5c06",
   "metadata": {},
   "outputs": [],
   "source": [
    "### 20 Frames of one of the Video Sequences ###\n",
    "\n",
    "fig, axes = plt.subplots(4, 5, figsize=(8, 6))\n",
    "data_choice = np.random.choice(range(len(VS_sim_1)), size=1)[0] # randomly select one of the video sequences\n",
    "\n",
    "for idx, ax in enumerate(axes.flat):\n",
    "    ax.imshow(np.squeeze(VS_sim_1[data_choice][idx]), cmap=\"viridis\") \n",
    "    ax.set_title(f\"Frame {idx + 1}\")\n",
    "    ax.axis(\"off\")\n",
    "\n",
    "# Print information and display the figure.\n",
    "print(f\"Displaying frames from Video Sequence No: {data_choice}.\")\n",
    "plt.show()"
   ]
  },
  {
   "cell_type": "markdown",
   "id": "788b1918-c9f3-471c-a228-ae79a529aa84",
   "metadata": {},
   "source": [
    "### Simulation 2"
   ]
  },
  {
   "cell_type": "markdown",
   "id": "0094e92f-b9b5-4b9c-ae76-5377e4c6d0a3",
   "metadata": {},
   "source": [
    "#### Image Frame creation from csv files"
   ]
  },
  {
   "cell_type": "code",
   "execution_count": null,
   "id": "f412ff40-4d45-4227-91df-4acdff50a02f",
   "metadata": {},
   "outputs": [],
   "source": [
    "sim_no = 2 # Simulation No\n",
    "csv_files = natsorted(glob.glob(path_sim_2+'*.csv'))  # Importing csv files of simulation naturally sorted\n",
    "\n",
    "c_values = [] # List of lists of compositions for all coordinate points for all time step\n",
    "for i, file in enumerate(csv_files): # Looping for all csv files (total csv files = number of time steps)\n",
    "    df = pd.read_csv(file, index_col=None) # Reading csv file\n",
    "    df = df.sort_values(by =['Points:1', 'Points:0'], ascending = [True, True]) # Sorting by coordinate x point in ascending order\n",
    "    dist = df['c'] # Making list of only compositional values\n",
    "    E = pd.DataFrame(dist) # Making dataframe of compositional list\n",
    "    E.columns = [os.path.basename(csv_files[i]).split('.')[0]] # Getting time step info from name of csv file  # First it separates whole file path to basename as \"00.csv\" || and then splits to \"00\" & \"csv\" and we need first part \"00\" only so [0]\n",
    "    c_values.append(E) # Appending composition to list\n",
    "    \n",
    "df_comp = pd.concat(c_values, ignore_index=False, axis=1) # Making dataframe of composition at every coordinate at every time step in ascending time order\n",
    "\n",
    "x_y_axis = df[['Points:0', 'Points:1']] # getting X and Y coordinate values\n",
    "data_sim_2 = pd.concat([x_y_axis, df_comp], ignore_index=False, axis=1).iloc[:, 2:] ## adding coordinate values to the dataframe of composition\n",
    "\n",
    "x_dim = int(x_y_axis.shape[0]**0.5) # The simulation was done in square surface so getting length of x-dimension\n",
    "y_dim = int(x_y_axis.shape[0]**0.5) # The simulation was done in square surface so getting length of y-dimension\n",
    "t_dim = int(df_comp.shape[1]) # Number of time steps as 3rd dimension of time \n",
    "\n",
    "print(f'SpatioTemporal(t, x, y) dimension of data is: {t_dim} x {y_dim} x {x_dim}')\n",
    "\n",
    "data_sim_2 = data_sim_2.to_numpy().reshape(x_dim, y_dim, t_dim)   # Converting dataframe to Numpy and matching x-y-t dimensions\n",
    "data_sim_2 = np.transpose(data_sim_2, (2, 0, 1))   # Transposing Numpy array in format of (t,x,y) from default of (y,x,t)\n",
    "\n",
    "np.save(path_pf_sim+'/sim_2/sim_2.npy', data_sim_2) # Saving the numpy file\n",
    "\n",
    "### Plotting last frame ###\n",
    "frame_no = t_dim - 1 \n",
    "plt.imshow(np.squeeze(data_sim_2[frame_no]), cmap=\"rainbow\")\n",
    "plt.title(f'Showing frame no: {frame_no+1} of Simulation {sim_no}')\n",
    "plt.gca().invert_yaxis()"
   ]
  },
  {
   "cell_type": "markdown",
   "id": "9917b88a-91b8-4d02-9054-002b8a9f7d9c",
   "metadata": {},
   "source": [
    "#### Video Sequence Creation from image frames"
   ]
  },
  {
   "cell_type": "code",
   "execution_count": null,
   "id": "4616f9e7-993c-4777-9e55-8507e615c167",
   "metadata": {},
   "outputs": [],
   "source": [
    "### Lowering Resolution  \n",
    "def reduce_pixel_size(image, new_shape):\n",
    "    return resize(image, new_shape, anti_aliasing=True)\n",
    "\n",
    "new_shape = (data_sim_2.shape[0], 64, 64)\n",
    "sim_2_low_res = reduce_pixel_size(data_sim_2, new_shape)\n",
    "print(f'Original Resolution: {data_sim_2.shape}\\n Reduced Resolution: {sim_2_low_res.shape}')\n",
    "\n",
    "## Plotting Original vs Recude resolution\n",
    "f, ax = plt.subplot_mosaic('01', figsize=(6, 3))\n",
    "ax['0'].imshow(data_sim_2[-1], cmap=\"viridis\")\n",
    "ax['0'].invert_yaxis()\n",
    "ax['0'].set_title(\"Original\")\n",
    "\n",
    "ax['1'].imshow(sim_2_low_res[-1], cmap=\"viridis\")\n",
    "ax['1'].invert_yaxis()\n",
    "ax['1'].set_title(\"Reduced\")\n",
    "plt.show()"
   ]
  },
  {
   "cell_type": "code",
   "execution_count": null,
   "id": "35992ce0-2706-4814-8365-c7719d01eeda",
   "metadata": {},
   "outputs": [],
   "source": [
    "##### Video Sequences #####\n",
    "\n",
    "VS_sim_2 = []  # list to store the subarrays\n",
    "for n in range(1, 16):  # jumpting step from 1 to 15  (delta in Figure 1 of paper)\n",
    "    for i in range(0, sim_2_low_res.shape[0] - 20  , n): # looping in the time step in one simulation (i in Figure 1 of paper)\n",
    "        video_sequence = sim_2_low_res[i : i + 20, :, :] # taking 20 timestep frames in a video sequence\n",
    "        VS_sim_2.append(video_sequence) # appending to Video Sequences (list of lists)\n",
    "        \n",
    "VS_sim_2 = np.array(VS_sim_2)  # convert list to numpy array\n",
    "np.save(path_pf_sim+'/sim_2/VS_2.npy', VS_sim_2) # saving the Video Sequences \n",
    "\n",
    "print(f'Total Image Frame Shape: {sim_2_low_res.shape}\\nVideo Sequence Shape: {VS_sim_2.shape}')"
   ]
  },
  {
   "cell_type": "code",
   "execution_count": null,
   "id": "316121b4-3b05-41e5-9f84-94b8a22244e5",
   "metadata": {},
   "outputs": [],
   "source": [
    "### 20 Frames of one of the Video Sequences ###\n",
    "\n",
    "fig, axes = plt.subplots(4, 5, figsize=(8, 6))\n",
    "data_choice = np.random.choice(range(len(VS_sim_2)), size=1)[0] # randomly select one of the video sequences\n",
    "\n",
    "for idx, ax in enumerate(axes.flat):\n",
    "    ax.imshow(np.squeeze(VS_sim_2[data_choice][idx]), cmap=\"viridis\") \n",
    "    ax.set_title(f\"Frame {idx + 1}\")\n",
    "    ax.axis(\"off\")\n",
    "\n",
    "# Print information and display the figure.\n",
    "print(f\"Displaying frames from Video Sequence No: {data_choice}.\")\n",
    "plt.show()"
   ]
  },
  {
   "cell_type": "markdown",
   "id": "b0bcc5d3-10f0-4b4c-93be-dc2c49d3ddec",
   "metadata": {},
   "source": [
    "### Simulation 3"
   ]
  },
  {
   "cell_type": "markdown",
   "id": "f4a69fc4-f4c9-43bb-a869-7afc8ec118c0",
   "metadata": {},
   "source": [
    "#### Image Frame creation from csv files"
   ]
  },
  {
   "cell_type": "code",
   "execution_count": null,
   "id": "589375a6-f3eb-4468-a0e9-425ad1cc6de2",
   "metadata": {},
   "outputs": [],
   "source": [
    "sim_no = 3 # Simulation No\n",
    "csv_files = natsorted(glob.glob(path_sim_3+'*.csv'))  # Importing csv files of simulation naturally sorted\n",
    "\n",
    "c_values = [] # List of lists of compositions for all coordinate points for all time step\n",
    "for i, file in enumerate(csv_files): # Looping for all csv files (total csv files = number of time steps)\n",
    "    df = pd.read_csv(file, index_col=None) # Reading csv file\n",
    "    df = df.sort_values(by =['Points:1', 'Points:0'], ascending = [True, True]) # Sorting by coordinate x point in ascending order\n",
    "    dist = df['c'] # Making list of only compositional values\n",
    "    E = pd.DataFrame(dist) # Making dataframe of compositional list\n",
    "    E.columns = [os.path.basename(csv_files[i]).split('.')[0]] # Getting time step info from name of csv file  # First it separates whole file path to basename as \"00.csv\" || and then splits to \"00\" & \"csv\" and we need first part \"00\" only so [0]\n",
    "    c_values.append(E) # Appending composition to list\n",
    "    \n",
    "df_comp = pd.concat(c_values, ignore_index=False, axis=1) # Making dataframe of composition at every coordinate at every time step in ascending time order\n",
    "\n",
    "x_y_axis = df[['Points:0', 'Points:1']] # getting X and Y coordinate values\n",
    "data_sim_3 = pd.concat([x_y_axis, df_comp], ignore_index=False, axis=1).iloc[:, 2:] ## adding coordinate values to the dataframe of composition\n",
    "\n",
    "x_dim = int(x_y_axis.shape[0]**0.5) # The simulation was done in square surface so getting length of x-dimension\n",
    "y_dim = int(x_y_axis.shape[0]**0.5) # The simulation was done in square surface so getting length of y-dimension\n",
    "t_dim = int(df_comp.shape[1]) # Number of time steps as 3rd dimension of time \n",
    "\n",
    "print(f'SpatioTemporal(t, x, y) dimension of data is: {t_dim} x {y_dim} x {x_dim}')\n",
    "\n",
    "data_sim_3 = data_sim_3.to_numpy().reshape(x_dim, y_dim, t_dim)   # Converting dataframe to Numpy and matching x-y-t dimensions\n",
    "data_sim_3 = np.transpose(data_sim_3, (2, 0, 1))   # Transposing Numpy array in format of (t,x,y) from default of (y,x,t)\n",
    "\n",
    "np.save(path_pf_sim+'/sim_3/sim_3.npy', data_sim_3) # Saving the numpy file\n",
    "\n",
    "### Plotting last frame ###\n",
    "frame_no = t_dim - 1 \n",
    "plt.imshow(np.squeeze(data_sim_3[frame_no]), cmap=\"rainbow\")\n",
    "plt.title(f'Showing frame no: {frame_no+1} of Simulation {sim_no}')\n",
    "plt.gca().invert_yaxis()"
   ]
  },
  {
   "cell_type": "markdown",
   "id": "ef20a7f0-a420-49c6-8c97-3ec647262fb6",
   "metadata": {},
   "source": [
    "#### Video Sequence Creation from image frames"
   ]
  },
  {
   "cell_type": "code",
   "execution_count": null,
   "id": "81807190-e095-49dd-8145-d9456f90d710",
   "metadata": {},
   "outputs": [],
   "source": [
    "### Lowering Resolution  \n",
    "def reduce_pixel_size(image, new_shape):\n",
    "    return resize(image, new_shape, anti_aliasing=True)\n",
    "\n",
    "new_shape = (data_sim_3.shape[0], 64, 64)\n",
    "sim_3_low_res = reduce_pixel_size(data_sim_3, new_shape)\n",
    "print(f'Original Resolution: {data_sim_3.shape}\\n Reduced Resolution: {sim_3_low_res.shape}')\n",
    "\n",
    "## Plotting Original vs Recude resolution\n",
    "f, ax = plt.subplot_mosaic('01', figsize=(6, 3))\n",
    "ax['0'].imshow(data_sim_3[-1], cmap=\"viridis\")\n",
    "ax['0'].invert_yaxis()\n",
    "ax['0'].set_title(\"Original\")\n",
    "\n",
    "ax['1'].imshow(sim_3_low_res[-1], cmap=\"viridis\")\n",
    "ax['1'].invert_yaxis()\n",
    "ax['1'].set_title(\"Reduced\")\n",
    "plt.show()"
   ]
  },
  {
   "cell_type": "code",
   "execution_count": null,
   "id": "13c36df5-9ada-4b6e-a479-fe02d28df635",
   "metadata": {},
   "outputs": [],
   "source": [
    "##### Video Sequences #####\n",
    "\n",
    "VS_sim_3 = []  # list to store the subarrays\n",
    "for n in range(1, 16):  # jumpting step from 1 to 15  (delta in Figure 1 of paper)\n",
    "    for i in range(0, sim_3_low_res.shape[0] - 20  , n): # looping in the time step in one simulation (i in Figure 1 of paper)\n",
    "        video_sequence = sim_3_low_res[i : i + 20, :, :] # taking 20 timestep frames in a video sequence\n",
    "        VS_sim_3.append(video_sequence) # appending to Video Sequences (list of lists)\n",
    "        \n",
    "VS_sim_3 = np.array(VS_sim_3)  # convert list to numpy array\n",
    "np.save(path_pf_sim+'/sim_3/VS_3.npy', VS_sim_3) # saving the Video Sequences \n",
    "\n",
    "print(f'Total Image Frame Shape: {sim_3_low_res.shape}\\nVideo Sequence Shape: {VS_sim_3.shape}')"
   ]
  },
  {
   "cell_type": "code",
   "execution_count": null,
   "id": "4e1f763f-b700-4cc6-8337-65bf934f6c8e",
   "metadata": {},
   "outputs": [],
   "source": [
    "### 20 Frames of one of the Video Sequences ###\n",
    "\n",
    "fig, axes = plt.subplots(4, 5, figsize=(8, 6))\n",
    "data_choice = np.random.choice(range(len(VS_sim_3)), size=1)[0] # randomly select one of the video sequences\n",
    "\n",
    "for idx, ax in enumerate(axes.flat):\n",
    "    ax.imshow(np.squeeze(VS_sim_3[data_choice][idx]), cmap=\"viridis\") \n",
    "    ax.set_title(f\"Frame {idx + 1}\")\n",
    "    ax.axis(\"off\")\n",
    "\n",
    "# Print information and display the figure.\n",
    "print(f\"Displaying frames from Video Sequence No: {data_choice}.\")\n",
    "plt.show()"
   ]
  },
  {
   "cell_type": "markdown",
   "id": "e6757b71-f51a-4eed-a05e-f4efab095338",
   "metadata": {},
   "source": [
    "### Simulation 4"
   ]
  },
  {
   "cell_type": "markdown",
   "id": "2c68d68d-43e0-4152-b8d9-d2624863f703",
   "metadata": {},
   "source": [
    "#### Image Frame creation from csv files"
   ]
  },
  {
   "cell_type": "code",
   "execution_count": null,
   "id": "0f67b16d-9976-4c74-8365-34fe53a8ce66",
   "metadata": {},
   "outputs": [],
   "source": [
    "sim_no = 4 # Simulation No\n",
    "csv_files = natsorted(glob.glob(path_sim_4+'*.csv'))  # Importing csv files of simulation naturally sorted\n",
    "\n",
    "c_values = [] # List of lists of compositions for all coordinate points for all time step\n",
    "for i, file in enumerate(csv_files): # Looping for all csv files (total csv files = number of time steps)\n",
    "    df = pd.read_csv(file, index_col=None) # Reading csv file\n",
    "    df = df.sort_values(by =['Points:1', 'Points:0'], ascending = [True, True]) # Sorting by coordinate x point in ascending order\n",
    "    dist = df['c'] # Making list of only compositional values\n",
    "    E = pd.DataFrame(dist) # Making dataframe of compositional list\n",
    "    E.columns = [os.path.basename(csv_files[i]).split('.')[0]] # Getting time step info from name of csv file  # First it separates whole file path to basename as \"00.csv\" || and then splits to \"00\" & \"csv\" and we need first part \"00\" only so [0]\n",
    "    c_values.append(E) # Appending composition to list\n",
    "    \n",
    "df_comp = pd.concat(c_values, ignore_index=False, axis=1) # Making dataframe of composition at every coordinate at every time step in ascending time order\n",
    "\n",
    "x_y_axis = df[['Points:0', 'Points:1']] # getting X and Y coordinate values\n",
    "data_sim_4 = pd.concat([x_y_axis, df_comp], ignore_index=False, axis=1).iloc[:, 2:] ## adding coordinate values to the dataframe of composition\n",
    "\n",
    "x_dim = int(x_y_axis.shape[0]**0.5) # The simulation was done in square surface so getting length of x-dimension\n",
    "y_dim = int(x_y_axis.shape[0]**0.5) # The simulation was done in square surface so getting length of y-dimension\n",
    "t_dim = int(df_comp.shape[1]) # Number of time steps as 3rd dimension of time \n",
    "\n",
    "print(f'SpatioTemporal(t, x, y) dimension of data is: {t_dim} x {y_dim} x {x_dim}')\n",
    "\n",
    "data_sim_4 = data_sim_4.to_numpy().reshape(x_dim, y_dim, t_dim)   # Converting dataframe to Numpy and matching x-y-t dimensions\n",
    "data_sim_4 = np.transpose(data_sim_4, (2, 0, 1))   # Transposing Numpy array in format of (t,x,y) from default of (y,x,t)\n",
    "\n",
    "np.save(path_pf_sim+'/sim_4/sim_4.npy', data_sim_4) # Saving the numpy file\n",
    "\n",
    "### Plotting last frame ###\n",
    "frame_no = t_dim - 1 \n",
    "plt.imshow(np.squeeze(data_sim_4[frame_no]), cmap=\"rainbow\")\n",
    "plt.title(f'Showing frame no: {frame_no+1} of Simulation {sim_no}')\n",
    "plt.gca().invert_yaxis()"
   ]
  },
  {
   "cell_type": "markdown",
   "id": "c752ce8e-aa74-4cc7-9937-f9b22c2f5d83",
   "metadata": {},
   "source": [
    "#### Video Sequence Creation from image frames"
   ]
  },
  {
   "cell_type": "code",
   "execution_count": null,
   "id": "f11c90d2-1405-4314-970e-9baffd27e6b7",
   "metadata": {},
   "outputs": [],
   "source": [
    "### Lowering Resolution  \n",
    "def reduce_pixel_size(image, new_shape):\n",
    "    return resize(image, new_shape, anti_aliasing=True)\n",
    "\n",
    "new_shape = (data_sim_4.shape[0], 64, 64)\n",
    "sim_4_low_res = reduce_pixel_size(data_sim_4, new_shape)\n",
    "print(f'Original Resolution: {data_sim_4.shape}\\n Reduced Resolution: {sim_4_low_res.shape}')\n",
    "\n",
    "## Plotting Original vs Recude resolution\n",
    "f, ax = plt.subplot_mosaic('01', figsize=(6, 3))\n",
    "ax['0'].imshow(data_sim_4[-1], cmap=\"viridis\")\n",
    "ax['0'].invert_yaxis()\n",
    "ax['0'].set_title(\"Original\")\n",
    "\n",
    "ax['1'].imshow(sim_4_low_res[-1], cmap=\"viridis\")\n",
    "ax['1'].invert_yaxis()\n",
    "ax['1'].set_title(\"Reduced\")\n",
    "plt.show()"
   ]
  },
  {
   "cell_type": "code",
   "execution_count": null,
   "id": "18ea8159-9048-4d36-88d8-82daa2625e5f",
   "metadata": {},
   "outputs": [],
   "source": [
    "##### Video Sequences #####\n",
    "\n",
    "VS_sim_4 = []  # list to store the subarrays\n",
    "for n in range(1, 16):  # jumpting step from 1 to 15  (delta in Figure 1 of paper)\n",
    "    for i in range(0, sim_4_low_res.shape[0] - 20  , n): # looping in the time step in one simulation (i in Figure 1 of paper)\n",
    "        video_sequence = sim_4_low_res[i : i + 20, :, :] # taking 20 timestep frames in a video sequence\n",
    "        VS_sim_4.append(video_sequence) # appending to Video Sequences (list of lists)\n",
    "        \n",
    "VS_sim_4 = np.array(VS_sim_4)  # convert list to numpy array\n",
    "np.save(path_pf_sim+'/sim_4/VS_4.npy', VS_sim_4) # saving the Video Sequences \n",
    "\n",
    "print(f'Total Image Frame Shape: {sim_4_low_res.shape}\\nVideo Sequence Shape: {VS_sim_4.shape}')"
   ]
  },
  {
   "cell_type": "code",
   "execution_count": null,
   "id": "7a029847-9196-4606-bfc1-d7659752a00c",
   "metadata": {},
   "outputs": [],
   "source": [
    "### 20 Frames of one of the Video Sequences ###\n",
    "\n",
    "fig, axes = plt.subplots(4, 5, figsize=(8, 6))\n",
    "data_choice = np.random.choice(range(len(VS_sim_4)), size=1)[0] # randomly select one of the video sequences\n",
    "\n",
    "for idx, ax in enumerate(axes.flat):\n",
    "    ax.imshow(np.squeeze(VS_sim_4[data_choice][idx]), cmap=\"viridis\") \n",
    "    ax.set_title(f\"Frame {idx + 1}\")\n",
    "    ax.axis(\"off\")\n",
    "\n",
    "# Print information and display the figure.\n",
    "print(f\"Displaying frames from Video Sequence No: {data_choice}.\")\n",
    "plt.show()"
   ]
  },
  {
   "cell_type": "markdown",
   "id": "9f4a50fe-8a0b-4e8f-addd-8547cc6a27cc",
   "metadata": {},
   "source": [
    "### Simulation 5"
   ]
  },
  {
   "cell_type": "markdown",
   "id": "96d06f21-3d5b-4392-88bc-318cd30d9418",
   "metadata": {},
   "source": [
    "#### Image Frame creation from csv files"
   ]
  },
  {
   "cell_type": "code",
   "execution_count": null,
   "id": "10480429-9531-4f28-a2a5-c6c8bc902b51",
   "metadata": {},
   "outputs": [],
   "source": [
    "sim_no = 5 # Simulation No\n",
    "csv_files = natsorted(glob.glob(path_sim_5+'*.csv'))  # Importing csv files of simulation naturally sorted\n",
    "\n",
    "c_values = [] # List of lists of compositions for all coordinate points for all time step\n",
    "for i, file in enumerate(csv_files): # Looping for all csv files (total csv files = number of time steps)\n",
    "    df = pd.read_csv(file, index_col=None) # Reading csv file\n",
    "    df = df.sort_values(by =['Points:1', 'Points:0'], ascending = [True, True]) # Sorting by coordinate x point in ascending order\n",
    "    dist = df['c'] # Making list of only compositional values\n",
    "    E = pd.DataFrame(dist) # Making dataframe of compositional list\n",
    "    E.columns = [os.path.basename(csv_files[i]).split('.')[0]] # Getting time step info from name of csv file  # First it separates whole file path to basename as \"00.csv\" || and then splits to \"00\" & \"csv\" and we need first part \"00\" only so [0]\n",
    "    c_values.append(E) # Appending composition to list\n",
    "    \n",
    "df_comp = pd.concat(c_values, ignore_index=False, axis=1) # Making dataframe of composition at every coordinate at every time step in ascending time order\n",
    "\n",
    "x_y_axis = df[['Points:0', 'Points:1']] # getting X and Y coordinate values\n",
    "data_sim_5 = pd.concat([x_y_axis, df_comp], ignore_index=False, axis=1).iloc[:, 2:] ## adding coordinate values to the dataframe of composition\n",
    "\n",
    "x_dim = int(x_y_axis.shape[0]**0.5) # The simulation was done in square surface so getting length of x-dimension\n",
    "y_dim = int(x_y_axis.shape[0]**0.5) # The simulation was done in square surface so getting length of y-dimension\n",
    "t_dim = int(df_comp.shape[1]) # Number of time steps as 3rd dimension of time \n",
    "\n",
    "print(f'SpatioTemporal(t, x, y) dimension of data is: {t_dim} x {y_dim} x {x_dim}')\n",
    "\n",
    "data_sim_5 = data_sim_5.to_numpy().reshape(x_dim, y_dim, t_dim)   # Converting dataframe to Numpy and matching x-y-t dimensions\n",
    "data_sim_5 = np.transpose(data_sim_5, (2, 0, 1))   # Transposing Numpy array in format of (t,x,y) from default of (y,x,t)\n",
    "\n",
    "np.save(path_pf_sim+'/sim_5/sim_5.npy', data_sim_5) # Saving the numpy file \n",
    "\n",
    "### Plotting last frame ###\n",
    "frame_no = t_dim - 1 \n",
    "plt.imshow(np.squeeze(data_sim_5[frame_no]), cmap=\"rainbow\")\n",
    "plt.title(f'Showing frame no: {frame_no+1} of Simulation {sim_no}')\n",
    "plt.gca().invert_yaxis()"
   ]
  },
  {
   "cell_type": "markdown",
   "id": "96410428-9ab7-4d36-a061-eb993f40f631",
   "metadata": {},
   "source": [
    "#### Video Sequence Creation from image frames"
   ]
  },
  {
   "cell_type": "code",
   "execution_count": null,
   "id": "8599c4f3-f995-48d9-878a-d19fb54aab37",
   "metadata": {},
   "outputs": [],
   "source": [
    "### Lowering Resolution  \n",
    "def reduce_pixel_size(image, new_shape):\n",
    "    return resize(image, new_shape, anti_aliasing=True)\n",
    "\n",
    "new_shape = (data_sim_5.shape[0], 64, 64)\n",
    "sim_5_low_res = reduce_pixel_size(data_sim_5, new_shape)\n",
    "print(f'Original Resolution: {data_sim_5.shape}\\n Reduced Resolution: {sim_5_low_res.shape}')\n",
    "\n",
    "## Plotting Original vs Recude resolution\n",
    "f, ax = plt.subplot_mosaic('01', figsize=(6, 3))\n",
    "ax['0'].imshow(data_sim_5[-1], cmap=\"viridis\")\n",
    "ax['0'].invert_yaxis()\n",
    "ax['0'].set_title(\"Original\")\n",
    "\n",
    "ax['1'].imshow(sim_5_low_res[-1], cmap=\"viridis\")\n",
    "ax['1'].invert_yaxis()\n",
    "ax['1'].set_title(\"Reduced\")\n",
    "plt.show()"
   ]
  },
  {
   "cell_type": "code",
   "execution_count": null,
   "id": "f33815e2-30d3-40ae-a13c-90858125b95d",
   "metadata": {},
   "outputs": [],
   "source": [
    "##### Video Sequences #####\n",
    "\n",
    "VS_sim_5 = []  # list to store the subarrays\n",
    "for n in range(1, 16):  # jumpting step from 1 to 15  (delta in Figure 1 of paper)\n",
    "    for i in range(0, sim_5_low_res.shape[0] - 20  , n): # looping in the time step in one simulation (i in Figure 1 of paper)\n",
    "        video_sequence = sim_5_low_res[i : i + 20, :, :] # taking 20 timestep frames in a video sequence\n",
    "        VS_sim_5.append(video_sequence) # appending to Video Sequences (list of lists)\n",
    "        \n",
    "VS_sim_5 = np.array(VS_sim_5)  # convert list to numpy array\n",
    "np.save(path_pf_sim+'/sim_5/VS_5.npy', VS_sim_5) # saving the Video Sequences \n",
    "\n",
    "print(f'Total Image Frame Shape: {sim_5_low_res.shape}\\nVideo Sequence Shape: {VS_sim_5.shape}')"
   ]
  },
  {
   "cell_type": "code",
   "execution_count": null,
   "id": "7912403e-03b1-41db-974a-2876d5b1320e",
   "metadata": {},
   "outputs": [],
   "source": [
    "### 20 Frames of one of the Video Sequences ###\n",
    "\n",
    "fig, axes = plt.subplots(4, 5, figsize=(8, 6))\n",
    "data_choice = np.random.choice(range(len(VS_sim_5)), size=1)[0] # randomly select one of the video sequences\n",
    "\n",
    "for idx, ax in enumerate(axes.flat):\n",
    "    ax.imshow(np.squeeze(VS_sim_5[data_choice][idx]), cmap=\"viridis\") \n",
    "    ax.set_title(f\"Frame {idx + 1}\")\n",
    "    ax.axis(\"off\")\n",
    "\n",
    "# Print information and display the figure.\n",
    "print(f\"Displaying frames from Video Sequence No: {data_choice}.\")\n",
    "plt.show()"
   ]
  },
  {
   "cell_type": "markdown",
   "id": "a91a3934-4492-4f8f-a51f-a643eaa7edbf",
   "metadata": {},
   "source": [
    "### Combining all Training Set of Video Sequences"
   ]
  },
  {
   "cell_type": "code",
   "execution_count": null,
   "id": "e4d1a761-33a2-4c5a-9404-1d0c1b07cf15",
   "metadata": {},
   "outputs": [],
   "source": [
    "VS = np.concatenate((VS_sim_0, VS_sim_1, VS_sim_2, VS_sim_3, VS_sim_4, VS_sim_5), axis=0)\n",
    "np.save(path+'/Step_1_train_test_data/VS_train_test.npy', VS)"
   ]
  },
  {
   "cell_type": "code",
   "execution_count": null,
   "id": "b24c4fe6-7c13-48a4-a185-5251b8ac2e7c",
   "metadata": {},
   "outputs": [],
   "source": []
  },
  {
   "cell_type": "code",
   "execution_count": null,
   "id": "e0dcb4b6-49af-4027-a94f-fbecc719e57b",
   "metadata": {},
   "outputs": [],
   "source": []
  },
  {
   "cell_type": "markdown",
   "id": "74d4f942-d9d2-48db-b092-84a6ac8826cf",
   "metadata": {},
   "source": [
    "## Engineering Alloy Pd_Rh"
   ]
  },
  {
   "cell_type": "markdown",
   "id": "cc88fc24-5f53-4467-b6ef-9d1ba9295089",
   "metadata": {},
   "source": [
    "#### Image Frame creation from csv files"
   ]
  },
  {
   "cell_type": "code",
   "execution_count": null,
   "id": "c784befc-a10a-4245-83e1-cb7f138f89cd",
   "metadata": {},
   "outputs": [],
   "source": [
    "sim_no = 'Pd-Rh' # Simulation Id\n",
    "csv_files = natsorted(glob.glob(path_Pd_Rh+'*.csv'))  # Importing csv files of simulation naturally sorted\n",
    "\n",
    "c_values = [] # List of lists of compositions for all coordinate points for all time step\n",
    "for i, file in enumerate(csv_files): # Looping for all csv files (total csv files = number of time steps)\n",
    "    df = pd.read_csv(file, index_col=None) # Reading csv file\n",
    "    df = df.sort_values(by =['Points:1', 'Points:0'], ascending = [True, True]) # Sorting by coordinate x point in ascending order\n",
    "    dist = df['c'] # Making list of only compositional values\n",
    "    E = pd.DataFrame(dist) # Making dataframe of compositional list\n",
    "    E.columns = [os.path.basename(csv_files[i]).split('.')[0]] # Getting time step info from name of csv file  # First it separates whole file path to basename as \"00.csv\" || and then splits to \"00\" & \"csv\" and we need first part \"00\" only so [0]\n",
    "    c_values.append(E) # Appending composition to list\n",
    "    \n",
    "df_comp = pd.concat(c_values, ignore_index=False, axis=1) # Making dataframe of composition at every coordinate at every time step in ascending time order\n",
    "\n",
    "x_y_axis = df[['Points:0', 'Points:1']] # getting X and Y coordinate values\n",
    "data_Pd_Rh = pd.concat([x_y_axis, df_comp], ignore_index=False, axis=1).iloc[:, 2:] ## adding coordinate values to the dataframe of composition\n",
    "\n",
    "x_dim = int(x_y_axis.shape[0]**0.5) # The simulation was done in square surface so getting length of x-dimension\n",
    "y_dim = int(x_y_axis.shape[0]**0.5) # The simulation was done in square surface so getting length of y-dimension\n",
    "t_dim = int(df_comp.shape[1]) # Number of time steps as 3rd dimension of time \n",
    "\n",
    "print(f'SpatioTemporal(t, x, y) dimension of data is: {t_dim} x {y_dim} x {x_dim}')\n",
    "\n",
    "data_Pd_Rh = data_Pd_Rh.to_numpy().reshape(x_dim, y_dim, t_dim)   # Converting dataframe to Numpy and matching x-y-t dimensions\n",
    "data_Pd_Rh = np.transpose(data_Pd_Rh, (2, 0, 1))   # Transposing Numpy array in format of (t,x,y) from default of (y,x,t)\n",
    "\n",
    "np.save(path_pf_sim+'/Pd_Rh/Pd_Rh.npy', data_Pd_Rh) # Saving the numpy file \n",
    "\n",
    "### Plotting last frame ###\n",
    "frame_no = t_dim - 1 \n",
    "plt.imshow(np.squeeze(data_Pd_Rh[frame_no]), cmap=\"rainbow\")\n",
    "plt.title(f'Showing frame no: {frame_no+1} of Simulation {sim_no}')\n",
    "plt.gca().invert_yaxis()"
   ]
  },
  {
   "cell_type": "markdown",
   "id": "ab2a0b56-7289-4f64-b1d0-441654ae6e7b",
   "metadata": {},
   "source": [
    "#### Video Sequence Creation from image frames"
   ]
  },
  {
   "cell_type": "code",
   "execution_count": null,
   "id": "940d1219-0c38-4342-acc1-19b61b773436",
   "metadata": {},
   "outputs": [],
   "source": [
    "### Lowering Resolution  \n",
    "def reduce_pixel_size(image, new_shape):\n",
    "    return resize(image, new_shape, anti_aliasing=True)\n",
    "\n",
    "new_shape = (data_Pd_Rh.shape[0], 64, 64)\n",
    "Pd_Rh_low_res = reduce_pixel_size(data_Pd_Rh, new_shape)\n",
    "print(f'Original Resolution: {data_Pd_Rh.shape}\\n Reduced Resolution: {Pd_Rh_low_res.shape}')\n",
    "\n",
    "## Plotting Original vs Recude resolution\n",
    "f, ax = plt.subplot_mosaic('01', figsize=(6, 3))\n",
    "ax['0'].imshow(data_Pd_Rh[-1], cmap=\"viridis\")\n",
    "ax['0'].invert_yaxis()\n",
    "ax['0'].set_title(\"Original\")\n",
    "\n",
    "ax['1'].imshow(Pd_Rh_low_res[-1], cmap=\"viridis\")\n",
    "ax['1'].invert_yaxis()\n",
    "ax['1'].set_title(\"Reduced\")\n",
    "plt.show()"
   ]
  },
  {
   "cell_type": "code",
   "execution_count": null,
   "id": "d1246ccf-fa62-4e60-b349-18f70d1e906f",
   "metadata": {},
   "outputs": [],
   "source": [
    "##### Video Sequences #####\n",
    "\n",
    "VS_Pd_Rh = []  # list to store the subarrays\n",
    "for n in range(1, 16):  # jumpting step from 1 to 15  (delta in Figure 1 of paper)\n",
    "    for i in range(0, Pd_Rh_low_res.shape[0] - 20  , n): # looping in the time step in one simulation (i in Figure 1 of paper)\n",
    "        video_sequence = Pd_Rh_low_res[i : i + 20, :, :] # taking 20 timestep frames in a video sequence\n",
    "        VS_Pd_Rh.append(video_sequence) # appending to Video Sequences (list of lists)\n",
    "        \n",
    "VS_Pd_Rh = np.array(VS_Pd_Rh)  # convert list to numpy array\n",
    "np.save(path+'/Step_1_train_test_data/VS_Pd_Rh.npy', VS_Pd_Rh) # saving the Video Sequences \n",
    "\n",
    "print(f'Total Image Frame Shape: {Pd_Rh_low_res.shape}\\nVideo Sequence Shape: {VS_Pd_Rh.shape}')"
   ]
  },
  {
   "cell_type": "code",
   "execution_count": null,
   "id": "4ce082fe-ef7c-4e0c-ab7e-393f43dfd0f0",
   "metadata": {},
   "outputs": [],
   "source": [
    "### 20 Frames of one of the Video Sequences ###\n",
    "\n",
    "fig, axes = plt.subplots(4, 5, figsize=(8, 6))\n",
    "data_choice = np.random.choice(range(len(VS_Pd_Rh)), size=1)[0] # randomly select one of the video sequences\n",
    "\n",
    "for idx, ax in enumerate(axes.flat):\n",
    "    ax.imshow(np.squeeze(VS_Pd_Rh[data_choice][idx]), cmap=\"viridis\") \n",
    "    ax.set_title(f\"Frame {idx + 1}\")\n",
    "    ax.axis(\"off\")\n",
    "\n",
    "# Print information and display the figure.\n",
    "print(f\"Displaying frames from Video Sequence No: {data_choice}.\")\n",
    "plt.show()"
   ]
  },
  {
   "cell_type": "markdown",
   "id": "819b2c74-c367-4834-b8b2-e27462070aaa",
   "metadata": {},
   "source": [
    "## Engineering Alloy Cu_Mn"
   ]
  },
  {
   "cell_type": "markdown",
   "id": "9674fbc0-27ee-449f-8362-5e933ff3566d",
   "metadata": {},
   "source": [
    "#### Image Frame creation from csv files"
   ]
  },
  {
   "cell_type": "code",
   "execution_count": null,
   "id": "86176bf0-474d-49be-a1b2-85980678da47",
   "metadata": {},
   "outputs": [],
   "source": [
    "sim_no = 'Pd-Rh' # Simulation Id\n",
    "csv_files = natsorted(glob.glob(path_Cu_Mn+'*.csv'))  # Importing csv files of simulation naturally sorted\n",
    "\n",
    "c_values = [] # List of lists of compositions for all coordinate points for all time step\n",
    "for i, file in enumerate(csv_files): # Looping for all csv files (total csv files = number of time steps)\n",
    "    df = pd.read_csv(file, index_col=None) # Reading csv file\n",
    "    df = df.sort_values(by =['Points:1', 'Points:0'], ascending = [True, True]) # Sorting by coordinate x point in ascending order\n",
    "    dist = df['c'] # Making list of only compositional values\n",
    "    E = pd.DataFrame(dist) # Making dataframe of compositional list\n",
    "    E.columns = [os.path.basename(csv_files[i]).split('.')[0]] # Getting time step info from name of csv file  # First it separates whole file path to basename as \"00.csv\" || and then splits to \"00\" & \"csv\" and we need first part \"00\" only so [0]\n",
    "    c_values.append(E) # Appending composition to list\n",
    "    \n",
    "df_comp = pd.concat(c_values, ignore_index=False, axis=1) # Making dataframe of composition at every coordinate at every time step in ascending time order\n",
    "\n",
    "x_y_axis = df[['Points:0', 'Points:1']] # getting X and Y coordinate values\n",
    "data_Cu_Mn = pd.concat([x_y_axis, df_comp], ignore_index=False, axis=1).iloc[:, 2:] ## adding coordinate values to the dataframe of composition\n",
    "\n",
    "x_dim = int(x_y_axis.shape[0]**0.5) # The simulation was done in square surface so getting length of x-dimension\n",
    "y_dim = int(x_y_axis.shape[0]**0.5) # The simulation was done in square surface so getting length of y-dimension\n",
    "t_dim = int(df_comp.shape[1]) # Number of time steps as 3rd dimension of time \n",
    "\n",
    "print(f'SpatioTemporal(t, x, y) dimension of data is: {t_dim} x {y_dim} x {x_dim}')\n",
    "\n",
    "data_Cu_Mn = data_Cu_Mn.to_numpy().reshape(x_dim, y_dim, t_dim)   # Converting dataframe to Numpy and matching x-y-t dimensions\n",
    "data_Cu_Mn = np.transpose(data_Cu_Mn, (2, 0, 1))   # Transposing Numpy array in format of (t,x,y) from default of (y,x,t)\n",
    "\n",
    "np.save(path_pf_sim+'/Cu_Mn/Cu_Mn.npy', data_Cu_Mn) # Saving the numpy file \n",
    "\n",
    "### Plotting last frame ###\n",
    "frame_no = t_dim - 1 \n",
    "plt.imshow(np.squeeze(data_Cu_Mn[frame_no]), cmap=\"rainbow\")\n",
    "plt.title(f'Showing frame no: {frame_no+1} of Simulation {sim_no}')\n",
    "plt.gca().invert_yaxis()"
   ]
  },
  {
   "cell_type": "markdown",
   "id": "1b1ef54e-489b-4c5b-8e7c-ea027b743fa3",
   "metadata": {},
   "source": [
    "#### Video Sequence Creation from image frames"
   ]
  },
  {
   "cell_type": "code",
   "execution_count": null,
   "id": "72f47189-79fa-4b58-83c2-3e7f0a2afb40",
   "metadata": {},
   "outputs": [],
   "source": [
    "### Lowering Resolution  \n",
    "def reduce_pixel_size(image, new_shape):\n",
    "    return resize(image, new_shape, anti_aliasing=True)\n",
    "\n",
    "new_shape = (data_Cu_Mn.shape[0], 64, 64)\n",
    "Cu_Mn_low_res = reduce_pixel_size(data_Cu_Mn, new_shape)\n",
    "print(f'Original Resolution: {data_Cu_Mn.shape}\\n Reduced Resolution: {Cu_Mn_low_res.shape}')\n",
    "\n",
    "## Plotting Original vs Recude resolution\n",
    "f, ax = plt.subplot_mosaic('01', figsize=(6, 3))\n",
    "ax['0'].imshow(data_Cu_Mn[-1], cmap=\"viridis\")\n",
    "ax['0'].invert_yaxis()\n",
    "ax['0'].set_title(\"Original\")\n",
    "\n",
    "ax['1'].imshow(Cu_Mn_low_res[-1], cmap=\"viridis\")\n",
    "ax['1'].invert_yaxis()\n",
    "ax['1'].set_title(\"Reduced\")\n",
    "plt.show()"
   ]
  },
  {
   "cell_type": "code",
   "execution_count": null,
   "id": "7d086661-2855-45dd-9279-b63795f90582",
   "metadata": {},
   "outputs": [],
   "source": [
    "##### Video Sequences #####\n",
    "\n",
    "VS_Cu_Mn = []  # list to store the subarrays\n",
    "for n in range(1, 16):  # jumpting step from 1 to 15  (delta in Figure 1 of paper)\n",
    "    for i in range(0, Cu_Mn_low_res.shape[0] - 20  , n): # looping in the time step in one simulation (i in Figure 1 of paper)\n",
    "        video_sequence = Cu_Mn_low_res[i : i + 20, :, :] # taking 20 timestep frames in a video sequence\n",
    "        VS_Cu_Mn.append(video_sequence) # appending to Video Sequences (list of lists)\n",
    "        \n",
    "VS_Cu_Mn = np.array(VS_Cu_Mn)  # convert list to numpy array\n",
    "np.save(path+'/Step_1_train_test_data/VS_Cu_Mn.npy', VS_Cu_Mn) # saving the Video Sequences \n",
    "\n",
    "print(f'Total Image Frame Shape: {Cu_Mn_low_res.shape}\\nVideo Sequence Shape: {VS_Cu_Mn.shape}')"
   ]
  },
  {
   "cell_type": "code",
   "execution_count": null,
   "id": "3551ef42-7e78-42fb-8ab2-e9a48bf6d00f",
   "metadata": {},
   "outputs": [],
   "source": [
    "### 20 Frames of one of the Video Sequences ###\n",
    "\n",
    "fig, axes = plt.subplots(4, 5, figsize=(8, 6))\n",
    "data_choice = np.random.choice(range(len(VS_Cu_Mn)), size=1)[0] # randomly select one of the video sequences\n",
    "\n",
    "for idx, ax in enumerate(axes.flat):\n",
    "    ax.imshow(np.squeeze(VS_Cu_Mn[data_choice][idx]), cmap=\"viridis\") \n",
    "    ax.set_title(f\"Frame {idx + 1}\")\n",
    "    ax.axis(\"off\")\n",
    "\n",
    "# Print information and display the figure.\n",
    "print(f\"Displaying frames from Video Sequence No: {data_choice}.\")\n",
    "plt.show()"
   ]
  },
  {
   "cell_type": "code",
   "execution_count": null,
   "id": "a3f920ed-0093-4457-a659-e81498c0401c",
   "metadata": {},
   "outputs": [],
   "source": []
  }
 ],
 "metadata": {
  "kernelspec": {
   "display_name": "Python 3 (ipykernel)",
   "language": "python",
   "name": "python3"
  },
  "language_info": {
   "codemirror_mode": {
    "name": "ipython",
    "version": 3
   },
   "file_extension": ".py",
   "mimetype": "text/x-python",
   "name": "python",
   "nbconvert_exporter": "python",
   "pygments_lexer": "ipython3",
   "version": "3.10.6"
  }
 },
 "nbformat": 4,
 "nbformat_minor": 5
}
