{
 "cells": [
  {
   "cell_type": "code",
   "execution_count": 1,
   "id": "378d5fe2-db90-4b84-8619-f8e9ae17aede",
   "metadata": {},
   "outputs": [],
   "source": [
    "import os\n",
    "import numpy as np\n",
    "from sklearn.model_selection import train_test_split"
   ]
  },
  {
   "cell_type": "code",
   "execution_count": 2,
   "id": "111378dd-a0e5-44a9-b944-8a8143c4354e",
   "metadata": {},
   "outputs": [],
   "source": [
    "path = os.path.abspath('..')  # Absolute Path to main folder"
   ]
  },
  {
   "cell_type": "code",
   "execution_count": 3,
   "id": "e711d17d-9081-4f12-9d04-c4a3c4587ebd",
   "metadata": {},
   "outputs": [
    {
     "data": {
      "text/plain": [
       "(3625, 20, 64, 64)"
      ]
     },
     "execution_count": 3,
     "metadata": {},
     "output_type": "execute_result"
    }
   ],
   "source": [
    "VS = np.load(path+'/Step_1_train_test_data/VS_train_test.npy') # Loading the Video Sequences numpy file \n",
    "VS.shape"
   ]
  },
  {
   "cell_type": "markdown",
   "id": "0783f693-fbd8-40bc-a240-351dd187df50",
   "metadata": {},
   "source": [
    "# Dataset Design for Model 1 Architecture"
   ]
  },
  {
   "cell_type": "code",
   "execution_count": 4,
   "id": "c749674d-20f8-405c-9592-9c99cbac7a1c",
   "metadata": {},
   "outputs": [],
   "source": [
    "VS_M1 = np.expand_dims(VS, axis=-1) ## Adding extra channel dimension as conv2D needs 5 input dimension"
   ]
  },
  {
   "cell_type": "code",
   "execution_count": 5,
   "id": "7cf185da-6c45-4af4-8ddb-eb882c2ccade",
   "metadata": {},
   "outputs": [
    {
     "data": {
      "text/plain": [
       "((3262, 20, 64, 64, 1), (363, 20, 64, 64, 1))"
      ]
     },
     "execution_count": 5,
     "metadata": {},
     "output_type": "execute_result"
    }
   ],
   "source": [
    "train_data_M1, test_data_M1 = train_test_split(VS_M1, test_size=0.1, random_state=None)  # splitting the train and test data in 90:10 raito\n",
    "train_data_M1.shape, test_data_M1.shape "
   ]
  },
  {
   "cell_type": "code",
   "execution_count": 6,
   "id": "431cb3ca-b88a-4a94-a948-2e08f4053189",
   "metadata": {},
   "outputs": [],
   "source": [
    "def next_frame_label(VS_data_M1):\n",
    "    X = VS_data_M1[:, 0 : VS_data_M1.shape[1] - 1, :, :]\n",
    "    y = VS_data_M1[:, 1 : VS_data_M1.shape[1], :, :]\n",
    "    return X, y"
   ]
  },
  {
   "cell_type": "code",
   "execution_count": 7,
   "id": "191cefad-bb7e-4b2a-93d0-478d44064923",
   "metadata": {},
   "outputs": [
    {
     "data": {
      "text/plain": [
       "((3262, 19, 64, 64, 1),\n",
       " (3262, 19, 64, 64, 1),\n",
       " (363, 19, 64, 64, 1),\n",
       " (363, 19, 64, 64, 1))"
      ]
     },
     "execution_count": 7,
     "metadata": {},
     "output_type": "execute_result"
    }
   ],
   "source": [
    "X_train_M1, y_train_M1 = next_frame_label(train_data_M1)\n",
    "X_test_M1, y_test_M1 = next_frame_label(test_data_M1)\n",
    "\n",
    "X_train_M1.shape, y_train_M1.shape, X_test_M1.shape, y_test_M1.shape, "
   ]
  },
  {
   "cell_type": "code",
   "execution_count": 8,
   "id": "9e9ba31b-a7a0-462e-9324-96f2985ccb1f",
   "metadata": {},
   "outputs": [],
   "source": [
    "### Saving train, test, feature & label separately ###\n",
    "\n",
    "np.save('X_y_feature_label/model_1/X_train_M1.npy', X_train_M1)\n",
    "np.save('X_y_feature_label/model_1/X_test_M1.npy', X_test_M1)\n",
    "np.save('X_y_feature_label/model_1/y_train_M1.npy', y_train_M1)\n",
    "np.save('X_y_feature_label/model_1/y_test_M1.npy', y_test_M1)"
   ]
  },
  {
   "cell_type": "markdown",
   "id": "d80dfde3-25f3-46b1-913b-753d807e17a1",
   "metadata": {},
   "source": [
    "# Dataset Design for Model 2 Architecture"
   ]
  },
  {
   "cell_type": "markdown",
   "id": "4ab31a01-b263-43c3-98ca-03563f4db4c9",
   "metadata": {},
   "source": [
    "### Separating Feature and Label as X and y"
   ]
  },
  {
   "cell_type": "code",
   "execution_count": 4,
   "id": "c93ef0ec-b856-4c21-835f-45345fc4d905",
   "metadata": {},
   "outputs": [
    {
     "data": {
      "text/plain": [
       "((3625, 17, 64, 64, 3), (3625, 17, 64, 64, 1))"
      ]
     },
     "execution_count": 4,
     "metadata": {},
     "output_type": "execute_result"
    }
   ],
   "source": [
    "## See Figure 4 of the paper to know in detail about Features and Labels\n",
    "\n",
    "X_M2 = np.zeros((VS.shape[0], 17, 3, 64, 64)) ## making empty array of required shape\n",
    "for i in range(17):\n",
    "    X_M2[:, i, :, :, :] = VS[:, i:i+3, :, :]\n",
    "y_M2 = np.expand_dims(VS[:, 3:20, :, :], axis=2)  ## Takes frames from 4 to 20 one at a time, then repates these frames at 3rd dimension 3 times to match the size of X_train\n",
    "\n",
    "X_M2 = np.moveaxis(X_M2, 2, -1)  ## Transforming feature axis to the end\n",
    "y_M2 = np.moveaxis(y_M2, 2, -1)  ## Transforming label frame to the end\n",
    "X_M2.shape, y_M2.shape"
   ]
  },
  {
   "cell_type": "markdown",
   "id": "03f19f71-33ef-4245-8b37-ee0cef34d4cb",
   "metadata": {},
   "source": [
    "### Splitting training and validation dataset in 90:10 ratio"
   ]
  },
  {
   "cell_type": "code",
   "execution_count": 6,
   "id": "1e0b1283-0842-44b0-8e47-d6c83b938559",
   "metadata": {},
   "outputs": [
    {
     "data": {
      "text/plain": [
       "((3262, 17, 64, 64, 3),\n",
       " (363, 17, 64, 64, 3),\n",
       " (3262, 17, 64, 64, 1),\n",
       " (363, 17, 64, 64, 1))"
      ]
     },
     "execution_count": 6,
     "metadata": {},
     "output_type": "execute_result"
    }
   ],
   "source": [
    "X_train_M2, X_test_M2, y_train_M2, y_test_M2 = train_test_split(X_M2, y_M2, test_size=0.1, random_state=None)  # splitting the feature & label to 90:10 train:test dataset\n",
    "X_train_M2.shape, X_test_M2.shape, y_train_M2.shape, y_test_M2.shape"
   ]
  },
  {
   "cell_type": "code",
   "execution_count": 7,
   "id": "1995014d-9665-461c-8b94-6a264d51ed20",
   "metadata": {},
   "outputs": [],
   "source": [
    "### Saving train, test, feature & label separately ###\n",
    "\n",
    "np.save('X_y_feature_label/model_2/X_train_M2.npy', X_train_M2)\n",
    "np.save('X_y_feature_label/model_2/X_test_M2.npy', X_test_M2)\n",
    "np.save('X_y_feature_label/model_2/y_train_M2.npy', y_train_M2)\n",
    "np.save('X_y_feature_label/model_2/y_test_M2.npy', y_test_M2)"
   ]
  },
  {
   "cell_type": "code",
   "execution_count": null,
   "id": "9ec10d50-490a-47ac-931b-69a3b1e4a64c",
   "metadata": {},
   "outputs": [],
   "source": []
  }
 ],
 "metadata": {
  "kernelspec": {
   "display_name": "Python 3 (ipykernel)",
   "language": "python",
   "name": "python3"
  },
  "language_info": {
   "codemirror_mode": {
    "name": "ipython",
    "version": 3
   },
   "file_extension": ".py",
   "mimetype": "text/x-python",
   "name": "python",
   "nbconvert_exporter": "python",
   "pygments_lexer": "ipython3",
   "version": "3.10.6"
  }
 },
 "nbformat": 4,
 "nbformat_minor": 5
}
