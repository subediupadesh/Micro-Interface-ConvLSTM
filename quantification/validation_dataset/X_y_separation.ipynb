{
 "cells": [
  {
   "cell_type": "code",
   "execution_count": 1,
   "id": "8d4f144a-790c-403c-b32a-476a98fe4558",
   "metadata": {},
   "outputs": [],
   "source": [
    "import os\n",
    "import numpy as np"
   ]
  },
  {
   "cell_type": "code",
   "execution_count": 2,
   "id": "b43942b8-7aa3-4cdf-9ffa-f56f6b75687c",
   "metadata": {
    "tags": []
   },
   "outputs": [
    {
     "data": {
      "text/plain": [
       "(3362, 20, 64, 64)"
      ]
     },
     "execution_count": 2,
     "metadata": {},
     "output_type": "execute_result"
    }
   ],
   "source": [
    "path = os.path.abspath('')\n",
    "\n",
    "pfm_datum = np.load(path+\"/val_m6.npy\") \n",
    "pfm_datum.shape"
   ]
  },
  {
   "cell_type": "code",
   "execution_count": 3,
   "id": "c745a5d7-9eb8-4acd-a032-9c71b85ed717",
   "metadata": {},
   "outputs": [
    {
     "data": {
      "text/plain": [
       "(100, 20, 64, 64)"
      ]
     },
     "execution_count": 3,
     "metadata": {},
     "output_type": "execute_result"
    }
   ],
   "source": [
    "random_sampling = np.random.randint(low=0, high=pfm_datum.shape[0], size=100)\n",
    "\n",
    "sampled_dataset = pfm_datum[random_sampling]\n",
    "sampled_dataset.shape"
   ]
  },
  {
   "cell_type": "code",
   "execution_count": 5,
   "id": "080900fd-127d-4cae-9246-11ada45130e1",
   "metadata": {},
   "outputs": [
    {
     "data": {
      "text/plain": [
       "((100, 17, 3, 64, 64), (100, 17, 1, 64, 64))"
      ]
     },
     "execution_count": 5,
     "metadata": {},
     "output_type": "execute_result"
    }
   ],
   "source": [
    "X = np.zeros((sampled_dataset.shape[0], 17, 3, 64, 64))\n",
    "\n",
    "for i in range(17):\n",
    "    X[:, i, :, :, :] = sampled_dataset[:, i:i+3, :, :]\n",
    "\n",
    "y = np.expand_dims(sampled_dataset[:, 3:20, :, :], axis=2)  ## Takes frames from 4 to 20 one at a time, then repates these frames at 3rd dimension 3 times to match the size of X_train\n",
    "\n",
    "X.shape, y.shape"
   ]
  },
  {
   "cell_type": "code",
   "execution_count": 6,
   "id": "7d6c9262-bed8-431f-a002-eec4b37e22c1",
   "metadata": {},
   "outputs": [
    {
     "name": "stdout",
     "output_type": "stream",
     "text": [
      "Validation: Feature & Label Shape \n",
      " X: (100, 17, 64, 64, 3) \n",
      " y: (100, 17, 64, 64, 1)\n"
     ]
    }
   ],
   "source": [
    "X = np.moveaxis(X, 2, -1)\n",
    "y = np.moveaxis(y, 2, -1)\n",
    "\n",
    "print(f'Validation: Feature & Label Shape \\n X: {str(X.shape)} \\n y: { str(y.shape)}')"
   ]
  },
  {
   "cell_type": "code",
   "execution_count": 7,
   "id": "bf3383ff-e864-41b8-bb1a-138cb8ee7909",
   "metadata": {
    "tags": []
   },
   "outputs": [],
   "source": [
    "np.save('X.npy', X)\n",
    "np.save('y.npy', y)"
   ]
  },
  {
   "cell_type": "code",
   "execution_count": null,
   "id": "216e3ce9-78e3-446d-b587-ebe754b3f726",
   "metadata": {},
   "outputs": [],
   "source": []
  }
 ],
 "metadata": {
  "kernelspec": {
   "display_name": "Python 3 (ipykernel)",
   "language": "python",
   "name": "python3"
  },
  "language_info": {
   "codemirror_mode": {
    "name": "ipython",
    "version": 3
   },
   "file_extension": ".py",
   "mimetype": "text/x-python",
   "name": "python",
   "nbconvert_exporter": "python",
   "pygments_lexer": "ipython3",
   "version": "3.10.6"
  }
 },
 "nbformat": 4,
 "nbformat_minor": 5
}
