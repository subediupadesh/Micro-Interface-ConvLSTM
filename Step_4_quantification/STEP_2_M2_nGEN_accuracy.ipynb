{
 "cells": [
  {
   "cell_type": "markdown",
   "id": "5fbd87db-96be-43cb-9906-4e82e13ae9cd",
   "metadata": {},
   "source": [
    "# Plots"
   ]
  },
  {
   "cell_type": "code",
   "execution_count": 3,
   "id": "d0db79ca-cbef-48ae-979c-bb1d49cc278e",
   "metadata": {},
   "outputs": [],
   "source": [
    "import matplotlib.transforms as transforms\n",
    "from matplotlib.ticker import MaxNLocator\n",
    "import matplotlib.pyplot as plt\n",
    "from skimage import metrics\n",
    "from math import pi\n",
    "import numpy as np\n",
    "import os"
   ]
  },
  {
   "cell_type": "code",
   "execution_count": 2,
   "id": "b74283ee-3a43-43ca-98e3-7d6f74746184",
   "metadata": {},
   "outputs": [],
   "source": [
    "## Loading all 4 generations of Predicted and Ground Truth validaiton dataset of Model 2\n",
    "path = os.path.abspath('..')\n",
    "\n",
    "GT_G0,  PD_G0  = np.load(path+'/Step_3_predictions/model_2_results/GEN-0.npy',) # allow_pickle=True)\n",
    "GT_G1,  PD_G1  = np.load(path+'/Step_3_predictions/model_2_results/GEN-1.npy',) # allow_pickle=True)\n",
    "GT_G2,  PD_G2  = np.load(path+'/Step_3_predictions/model_2_results/GEN-2.npy',) # allow_pickle=True)\n",
    "GT_G3,  PD_G3  = np.load(path+'/Step_3_predictions/model_2_results/GEN-3.npy',) # allow_pickle=True)\n",
    "GT_G4,  PD_G4  = np.load(path+'/Step_3_predictions/model_2_results/GEN-4.npy',) # allow_pickle=True)\n",
    "GT_G5,  PD_G5  = np.load(path+'/Step_3_predictions/model_2_results/GEN-5.npy',) # allow_pickle=True)\n",
    "GT_G6,  PD_G6  = np.load(path+'/Step_3_predictions/model_2_results/GEN-6.npy',) # allow_pickle=True)\n",
    "GT_G7,  PD_G7  = np.load(path+'/Step_3_predictions/model_2_results/GEN-7.npy',) # allow_pickle=True)\n",
    "GT_G8,  PD_G8  = np.load(path+'/Step_3_predictions/model_2_results/GEN-8.npy',) # allow_pickle=True)\n",
    "GT_G9,  PD_G9  = np.load(path+'/Step_3_predictions/model_2_results/GEN-9.npy',) # allow_pickle=True)\n",
    "GT_G10,  PD_G10  = np.load(path+'/Step_3_predictions/model_2_results/GEN-10.npy',) # allow_pickle=True)\n",
    "\n",
    "def scale_array(arr):\n",
    "    arr_min = np.min(arr)  ## Flattens the array and finds the min value inside it\n",
    "    arr_max = np.max(arr)  ## Flattens the array and finds the max value inside it\n",
    "    scaled_array = (arr - arr_min) / (arr_max - arr_min) * 255\n",
    "    scaled_array = scaled_array.astype(np.uint8)\n",
    "    \n",
    "    return scaled_array\n",
    "\n",
    "GT_G0_scaled, PD_G0_scaled = scale_array(GT_G0), scale_array(PD_G0)\n",
    "GT_G1_scaled, PD_G1_scaled = scale_array(GT_G1), scale_array(PD_G1)\n",
    "GT_G2_scaled, PD_G2_scaled = scale_array(GT_G2), scale_array(PD_G2)\n",
    "GT_G3_scaled, PD_G3_scaled = scale_array(GT_G3), scale_array(PD_G3)\n",
    "\n",
    "GT_G4_scaled, PD_G4_scaled = scale_array(GT_G4), scale_array(PD_G4)\n",
    "GT_G5_scaled, PD_G5_scaled = scale_array(GT_G5), scale_array(PD_G5)\n",
    "GT_G6_scaled, PD_G6_scaled = scale_array(GT_G6), scale_array(PD_G6)\n",
    "GT_G7_scaled, PD_G7_scaled = scale_array(GT_G7), scale_array(PD_G7)\n",
    "GT_G8_scaled, PD_G8_scaled = scale_array(GT_G8), scale_array(PD_G8)\n",
    "GT_G9_scaled, PD_G9_scaled = scale_array(GT_G9), scale_array(PD_G9)\n",
    "GT_G10_scaled, PD_G10_scaled = scale_array(GT_G10), scale_array(PD_G10)\n",
    "\n",
    "# GT_G0.shape, PD_G0.shape, GT_G1.shape, PD_G1.shape, GT_G2.shape, PD_G2.shape, GT_G3.shape, PD_G3.shape, GT_G4.shape, PD_G4.shape, GT_G5.shape, PD_G5.shape, GT_G6.shape, PD_G6.shape, GT_G7.shape, PD_G7.shape, GT_G8.shape, PD_G8.shape, GT_G9.shape, PD_G9.shape, GT_G10.shape, PD_G10.shape"
   ]
  },
  {
   "attachments": {},
   "cell_type": "markdown",
   "id": "00b73d7e-3bc6-4237-8fff-929e343fff92",
   "metadata": {},
   "source": [
    "## $\\mu_{SIM}$ Generational"
   ]
  },
  {
   "cell_type": "code",
   "execution_count": 3,
   "id": "1888bb80-b913-4830-a0f4-e6b8c8a6cb0d",
   "metadata": {},
   "outputs": [],
   "source": [
    "a, b, c, d, e = GT_G0.shape[0], GT_G0.shape[1], GT_G0.shape[2], GT_G0.shape[3], GT_G0.shape[4] \n",
    "\n",
    "ssim_g0 = np.zeros((a,b))\n",
    "\n",
    "for i in range(GT_G0_scaled.shape[0]):\n",
    "  for j in range(GT_G0_scaled.shape[1]):\n",
    "    ssim_g0[i][j] = metrics.structural_similarity(GT_G0_scaled[i,j,:,:,0], PD_G0_scaled[i,j,:,:,0], win_size=3)\n",
    "\n",
    "ssim_g0_all = metrics.structural_similarity(GT_G0_scaled[:,:,:,:,0], PD_G0_scaled[:,:,:,:,0], win_size=3)"
   ]
  },
  {
   "cell_type": "code",
   "execution_count": 4,
   "id": "26633336-f0ea-4a0b-9886-7c86ec37391e",
   "metadata": {},
   "outputs": [],
   "source": [
    "a, b, c, d, e = GT_G1.shape[0], GT_G1.shape[1], GT_G1.shape[2], GT_G1.shape[3], GT_G1.shape[4] \n",
    "\n",
    "## For Individual Image Frames\n",
    "ssim_g1 = np.zeros((a,b))\n",
    "\n",
    "for i in range(GT_G1_scaled.shape[0]):\n",
    "  for j in range(GT_G1_scaled.shape[1]):\n",
    "    ssim_g1[i][j] = metrics.structural_similarity(GT_G1_scaled[i,j,:,:,0], PD_G1_scaled[i,j,:,:,0], win_size=3)\n",
    "\n",
    "ssim_g1_all = metrics.structural_similarity(GT_G1_scaled[:,:,:,:,0], PD_G1_scaled[:,:,:,:,0], win_size=3)"
   ]
  },
  {
   "cell_type": "code",
   "execution_count": 5,
   "id": "5e6278d2-04a4-4d6b-83e7-8f83e76d0f7d",
   "metadata": {},
   "outputs": [],
   "source": [
    "a, b, c, d, e = GT_G2.shape[0], GT_G2.shape[1], GT_G2.shape[2], GT_G2.shape[3], GT_G2.shape[4] \n",
    "\n",
    "## For Individual Image Frames\n",
    "ssim_g2 = np.zeros((a,b))\n",
    "\n",
    "for i in range(GT_G2_scaled.shape[0]):\n",
    "  for j in range(GT_G2_scaled.shape[1]):\n",
    "    ssim_g2[i][j] = metrics.structural_similarity(GT_G2_scaled[i,j,:,:,0], PD_G2_scaled[i,j,:,:,0], win_size=3)\n",
    "\n",
    "ssim_g2_all = metrics.structural_similarity(GT_G2_scaled[:,:,:,:,0], PD_G2_scaled[:,:,:,:,0], win_size=3)"
   ]
  },
  {
   "cell_type": "code",
   "execution_count": 6,
   "id": "99304961-e7ee-4047-a132-f6a4c29a3dbb",
   "metadata": {},
   "outputs": [],
   "source": [
    "a, b, c, d, e = GT_G3.shape[0], GT_G3.shape[1], GT_G3.shape[2], GT_G3.shape[3], GT_G3.shape[4] \n",
    "\n",
    "## For Individual Image Frames\n",
    "ssim_g3 = np.zeros((a,b))\n",
    "\n",
    "for i in range(GT_G3_scaled.shape[0]):\n",
    "  for j in range(GT_G3_scaled.shape[1]):\n",
    "    ssim_g3[i][j] = metrics.structural_similarity(GT_G3_scaled[i,j,:,:,0], PD_G3_scaled[i,j,:,:,0], win_size=3)\n",
    "\n",
    "ssim_g3_all = metrics.structural_similarity(GT_G3_scaled[:,:,:,:,0], PD_G3_scaled[:,:,:,:,0], win_size=3)"
   ]
  },
  {
   "cell_type": "code",
   "execution_count": 7,
   "id": "ad2dd032-886a-480d-a933-5efb096a0ea0",
   "metadata": {},
   "outputs": [],
   "source": [
    "a, b, c, d, e = GT_G4.shape[0], GT_G4.shape[1], GT_G4.shape[2], GT_G4.shape[3], GT_G4.shape[4] \n",
    "\n",
    "## For Individual Image Frames\n",
    "ssim_g4 = np.zeros((a,b))\n",
    "\n",
    "for i in range(GT_G4_scaled.shape[0]):\n",
    "  for j in range(GT_G4_scaled.shape[1]):\n",
    "    ssim_g4[i][j] = metrics.structural_similarity(GT_G4_scaled[i,j,:,:,0], PD_G4_scaled[i,j,:,:,0], win_size=3)\n",
    "\n",
    "ssim_g4_all = metrics.structural_similarity(GT_G4_scaled[:,:,:,:,0], PD_G4_scaled[:,:,:,:,0], win_size=7)"
   ]
  },
  {
   "cell_type": "code",
   "execution_count": 8,
   "id": "8d248912-ef92-4976-b1b8-54783f818ec3",
   "metadata": {},
   "outputs": [],
   "source": [
    "a, b, c, d, e = GT_G5.shape[0], GT_G5.shape[1], GT_G5.shape[2], GT_G5.shape[3], GT_G5.shape[4] \n",
    "\n",
    "## For Individual Image Frames\n",
    "ssim_g5 = np.zeros((a,b))\n",
    "\n",
    "for i in range(GT_G5_scaled.shape[0]):\n",
    "  for j in range(GT_G5_scaled.shape[1]):\n",
    "    ssim_g5[i][j] = metrics.structural_similarity(GT_G5_scaled[i,j,:,:,0], PD_G5_scaled[i,j,:,:,0], win_size=3)\n",
    "\n",
    "ssim_g5_all = metrics.structural_similarity(GT_G5_scaled[:,:,:,:,0], PD_G5_scaled[:,:,:,:,0], win_size=5)"
   ]
  },
  {
   "cell_type": "code",
   "execution_count": 9,
   "id": "cdcf3d2b-1d7c-492b-bdf6-5f00c9ac9988",
   "metadata": {},
   "outputs": [],
   "source": [
    "a, b, c, d, e = GT_G6.shape[0], GT_G6.shape[1], GT_G6.shape[2], GT_G6.shape[3], GT_G6.shape[4] \n",
    "\n",
    "## For Individual Image Frames\n",
    "ssim_g6 = np.zeros((a,b))\n",
    "\n",
    "for i in range(GT_G6_scaled.shape[0]):\n",
    "  for j in range(GT_G6_scaled.shape[1]):\n",
    "    ssim_g6[i][j] = metrics.structural_similarity(GT_G6_scaled[i,j,:,:,0], PD_G6_scaled[i,j,:,:,0], win_size=3)\n",
    "\n",
    "ssim_g6_all = metrics.structural_similarity(GT_G6_scaled[:,:,:,:,0], PD_G6_scaled[:,:,:,:,0], win_size=5)"
   ]
  },
  {
   "cell_type": "code",
   "execution_count": 10,
   "id": "bbc2f7f9-8cce-410c-9293-723a2e0705cb",
   "metadata": {},
   "outputs": [],
   "source": [
    "a, b, c, d, e = GT_G7.shape[0], GT_G7.shape[1], GT_G7.shape[2], GT_G7.shape[3], GT_G7.shape[4] \n",
    "\n",
    "## For Individual Image Frames\n",
    "ssim_g7 = np.zeros((a,b))\n",
    "\n",
    "for i in range(GT_G7_scaled.shape[0]):\n",
    "  for j in range(GT_G7_scaled.shape[1]):\n",
    "    ssim_g7[i][j] = metrics.structural_similarity(GT_G7_scaled[i,j,:,:,0], PD_G7_scaled[i,j,:,:,0], win_size=3)\n",
    "\n",
    "ssim_g7_all = metrics.structural_similarity(GT_G7_scaled[:,:,:,:,0], PD_G7_scaled[:,:,:,:,0], win_size=3)"
   ]
  },
  {
   "cell_type": "code",
   "execution_count": 18,
   "id": "fa21509b-56a2-4cc7-bb1e-46d112dc5f1b",
   "metadata": {},
   "outputs": [],
   "source": [
    "a, b, c, d, e = GT_G8.shape[0], GT_G8.shape[1], GT_G8.shape[2], GT_G8.shape[3], GT_G8.shape[4] \n",
    "\n",
    "## For Individual Image Frames\n",
    "ssim_g8 = np.zeros((a,b))\n",
    "\n",
    "for i in range(GT_G8_scaled.shape[0]):\n",
    "  for j in range(GT_G8_scaled.shape[1]):\n",
    "    ssim_g8[i][j] = metrics.structural_similarity(GT_G8_scaled[i,j,:,:,0], PD_G8_scaled[i,j,:,:,0], win_size=53)\n",
    "\n",
    "ssim_g8_all = np.mean(ssim_g8)"
   ]
  },
  {
   "cell_type": "code",
   "execution_count": 19,
   "id": "caea748b-295d-46e3-9895-cf234b79a06a",
   "metadata": {},
   "outputs": [],
   "source": [
    "a, b, c, d, e = GT_G9.shape[0], GT_G9.shape[1], GT_G9.shape[2], GT_G9.shape[3], GT_G9.shape[4] \n",
    "\n",
    "## For Individual Image Frames\n",
    "ssim_g9 = np.zeros((a,b))\n",
    "\n",
    "for i in range(GT_G9_scaled.shape[0]):\n",
    "  for j in range(GT_G9_scaled.shape[1]):\n",
    "    ssim_g9[i][j] = metrics.structural_similarity(GT_G9_scaled[i,j,:,:,0], PD_G9_scaled[i,j,:,:,0], win_size=11)\n",
    "\n",
    "ssim_g9_all = np.mean(ssim_g9)"
   ]
  },
  {
   "cell_type": "code",
   "execution_count": 20,
   "id": "c040adfd-37e8-4b41-ab71-fed9e5b73982",
   "metadata": {},
   "outputs": [],
   "source": [
    "a, b, c, d, e = GT_G10.shape[0], GT_G10.shape[1], GT_G10.shape[2], GT_G10.shape[3], GT_G10.shape[4] \n",
    "\n",
    "## For Individual Image Frames\n",
    "ssim_g10 = np.zeros((a,b))\n",
    "\n",
    "for i in range(GT_G10_scaled.shape[0]):\n",
    "  for j in range(GT_G10_scaled.shape[1]):\n",
    "    ssim_g10[i][j] = metrics.structural_similarity(GT_G10_scaled[i,j,:,:,0], PD_G10_scaled[i,j,:,:,0], win_size=11)\n",
    "\n",
    "ssim_g10_all = np.mean(ssim_g10)"
   ]
  },
  {
   "cell_type": "code",
   "execution_count": 23,
   "id": "b5c839c3-de00-48bf-8af9-20c4536b9c47",
   "metadata": {},
   "outputs": [
    {
     "data": {
      "text/plain": [
       "[0.9942957921101606,\n",
       " 0.9874310391573395,\n",
       " 0.9806071166841575,\n",
       " 0.9675961438969446,\n",
       " 0.9670767027881085,\n",
       " 0.9665487087547048,\n",
       " 0.9547065431754086,\n",
       " 0.9422382452417497,\n",
       " 0.9221657912481671,\n",
       " 0.9102153964650194,\n",
       " 0.8808529972969542]"
      ]
     },
     "execution_count": 23,
     "metadata": {},
     "output_type": "execute_result"
    }
   ],
   "source": [
    "musim = [ssim_g0_all, ssim_g1_all, ssim_g2_all, ssim_g3_all, ssim_g4_all, ssim_g5_all, ssim_g6_all, ssim_g7_all, ssim_g8_all, ssim_g9_all, ssim_g10_all]"
   ]
  },
  {
   "cell_type": "code",
   "execution_count": 12,
   "id": "289efb70-a257-4a9b-9767-d8ded70bd1d9",
   "metadata": {},
   "outputs": [
    {
     "data": {
      "image/png": "[encoded data removed]",
      "text/plain": [
       "<Figure size 700x500 with 1 Axes>"
      ]
     },
     "metadata": {},
     "output_type": "display_data"
    }
   ],
   "source": [
    "fig, ax1 = plt.subplots(1, 1, figsize=[7, 5], frameon=True)\n",
    "ax1.set_facecolor((0, 0, 0, 0))\n",
    "\n",
    "ax1.plot(musim, '-o', color='red', linewidth=2,  label=r'$\\mathbf{\\mu_{SIM}}$')\n",
    "ax1.set_xticks([0, 2, 4, 6, 8, 10, 12], labels=[1, 3, 5, 7, 9, 11, 13], size=15, color='k', weight='bold')\n",
    "ax1.set_yticks([0.8, 0.85, 0.9, 0.95, 1], labels=['0.80', '0.85', '0.90', '0.95', '1.00'], size=15, color='k', rotation=0,  weight='bold')\n",
    "\n",
    "ax1.hlines(y=0.9, xmin=-1, xmax=11, color='k', linestyle ='--', linewidth=2)\n",
    "\n",
    "ax1.set_xlim(-1, 11)\n",
    "ax1.set_ylim(0.79, 1.01)\n",
    "\n",
    "ax1.legend(loc=(0.75, 0.85), ncol=1,  columnspacing=1.0, prop={'weight':'bold', 'size':'15',},  handletextpad=0.5, handlelength=2.0,   frameon=True)\n",
    "\n",
    "ax1.set_ylabel(r\"$\\mathbf{\\mu_{SIM} \\longrightarrow} $\", weight = 'bold', size=30, labelpad=10, color='k')\n",
    "ax1.set_xlabel(r\"Generations $\\mathbf{\\longrightarrow}$\", weight = 'bold', size=20, labelpad=5, color='k')\n",
    "ax1.spines[:].set_linewidth(2)\n",
    "\n",
    "plt.grid(alpha=0.4)\n",
    "plt.tight_layout()\n",
    "# plt.savefig('figures_M2/10Gen_prediction.png',)\n",
    "# plt.savefig('/home/upadesh/3_Codes/0_GitHub_hostings/current_manuscript/Foretelling_ConvLSTM/00_Revision_Engineering_with_Computers/revised_manuscript/figure_12_appendix.jpg',)\n",
    "\n",
    "plt.show()"
   ]
  },
  {
   "cell_type": "code",
   "execution_count": null,
   "id": "4826566f-eee7-4b1b-9f5a-567811bb9af7",
   "metadata": {},
   "outputs": [],
   "source": []
  }
 ],
 "metadata": {
  "kernelspec": {
   "display_name": "Python 3 (ipykernel)",
   "language": "python",
   "name": "python3"
  },
  "language_info": {
   "codemirror_mode": {
    "name": "ipython",
    "version": 3
   },
   "file_extension": ".py",
   "mimetype": "text/x-python",
   "name": "python",
   "nbconvert_exporter": "python",
   "pygments_lexer": "ipython3",
   "version": "3.10.12"
  }
 },
 "nbformat": 4,
 "nbformat_minor": 5
}
